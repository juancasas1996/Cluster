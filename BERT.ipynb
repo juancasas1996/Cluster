{
 "cells": [
  {
   "cell_type": "code",
   "execution_count": 5,
   "metadata": {},
   "outputs": [],
   "source": [
    "import pandas as pd\n",
    "from sklearn.decomposition import PCA\n",
    "from sklearn.cluster import KMeans\n",
    "from sklearn.metrics import silhouette_samples, silhouette_score\n",
    "import numpy as np\n",
    "import plotly.graph_objects as go\n",
    "from sklearn.ensemble import RandomForestClassifier\n",
    "from sklearn.model_selection import train_test_split\n",
    "from sklearn.metrics import accuracy_score, classification_report\n",
    "from sklearn.model_selection import cross_val_score\n",
    "import joblib\n"
   ]
  },
  {
   "cell_type": "code",
   "execution_count": 6,
   "metadata": {},
   "outputs": [
    {
     "data": {
      "text/html": [
       "<div>\n",
       "<style scoped>\n",
       "    .dataframe tbody tr th:only-of-type {\n",
       "        vertical-align: middle;\n",
       "    }\n",
       "\n",
       "    .dataframe tbody tr th {\n",
       "        vertical-align: top;\n",
       "    }\n",
       "\n",
       "    .dataframe thead th {\n",
       "        text-align: right;\n",
       "    }\n",
       "</style>\n",
       "<table border=\"1\" class=\"dataframe\">\n",
       "  <thead>\n",
       "    <tr style=\"text-align: right;\">\n",
       "      <th></th>\n",
       "      <th>frases</th>\n",
       "      <th>0</th>\n",
       "      <th>1</th>\n",
       "      <th>2</th>\n",
       "      <th>3</th>\n",
       "      <th>4</th>\n",
       "      <th>5</th>\n",
       "      <th>6</th>\n",
       "      <th>7</th>\n",
       "      <th>8</th>\n",
       "      <th>...</th>\n",
       "      <th>374</th>\n",
       "      <th>375</th>\n",
       "      <th>376</th>\n",
       "      <th>377</th>\n",
       "      <th>378</th>\n",
       "      <th>379</th>\n",
       "      <th>380</th>\n",
       "      <th>381</th>\n",
       "      <th>382</th>\n",
       "      <th>383</th>\n",
       "    </tr>\n",
       "  </thead>\n",
       "  <tbody>\n",
       "    <tr>\n",
       "      <th>0</th>\n",
       "      <td>La programación es una habilidad clave en el m...</td>\n",
       "      <td>-0.213440</td>\n",
       "      <td>-0.069173</td>\n",
       "      <td>-0.197310</td>\n",
       "      <td>-0.029537</td>\n",
       "      <td>-0.130899</td>\n",
       "      <td>0.094700</td>\n",
       "      <td>-0.013937</td>\n",
       "      <td>-0.065587</td>\n",
       "      <td>-0.128986</td>\n",
       "      <td>...</td>\n",
       "      <td>-0.011848</td>\n",
       "      <td>0.112096</td>\n",
       "      <td>0.110057</td>\n",
       "      <td>-0.194281</td>\n",
       "      <td>0.122164</td>\n",
       "      <td>0.201293</td>\n",
       "      <td>-0.263372</td>\n",
       "      <td>0.073772</td>\n",
       "      <td>0.209616</td>\n",
       "      <td>-0.065574</td>\n",
       "    </tr>\n",
       "    <tr>\n",
       "      <th>1</th>\n",
       "      <td>El trabajo en equipo es fundamental en el desa...</td>\n",
       "      <td>-0.196377</td>\n",
       "      <td>-0.179967</td>\n",
       "      <td>-0.068353</td>\n",
       "      <td>-0.064427</td>\n",
       "      <td>-0.267967</td>\n",
       "      <td>-0.021664</td>\n",
       "      <td>-0.277520</td>\n",
       "      <td>-0.026893</td>\n",
       "      <td>0.128443</td>\n",
       "      <td>...</td>\n",
       "      <td>0.265531</td>\n",
       "      <td>0.452463</td>\n",
       "      <td>0.059066</td>\n",
       "      <td>-0.019282</td>\n",
       "      <td>0.238384</td>\n",
       "      <td>-0.043932</td>\n",
       "      <td>-0.224611</td>\n",
       "      <td>0.203272</td>\n",
       "      <td>0.220722</td>\n",
       "      <td>-0.301896</td>\n",
       "    </tr>\n",
       "  </tbody>\n",
       "</table>\n",
       "<p>2 rows × 385 columns</p>\n",
       "</div>"
      ],
      "text/plain": [
       "                                              frases         0         1   \n",
       "0  La programación es una habilidad clave en el m... -0.213440 -0.069173  \\\n",
       "1  El trabajo en equipo es fundamental en el desa... -0.196377 -0.179967   \n",
       "\n",
       "          2         3         4         5         6         7         8  ...   \n",
       "0 -0.197310 -0.029537 -0.130899  0.094700 -0.013937 -0.065587 -0.128986  ...  \\\n",
       "1 -0.068353 -0.064427 -0.267967 -0.021664 -0.277520 -0.026893  0.128443  ...   \n",
       "\n",
       "        374       375       376       377       378       379       380   \n",
       "0 -0.011848  0.112096  0.110057 -0.194281  0.122164  0.201293 -0.263372  \\\n",
       "1  0.265531  0.452463  0.059066 -0.019282  0.238384 -0.043932 -0.224611   \n",
       "\n",
       "        381       382       383  \n",
       "0  0.073772  0.209616 -0.065574  \n",
       "1  0.203272  0.220722 -0.301896  \n",
       "\n",
       "[2 rows x 385 columns]"
      ]
     },
     "execution_count": 6,
     "metadata": {},
     "output_type": "execute_result"
    }
   ],
   "source": [
    "import pandas as pd\n",
    "from sentence_transformers import SentenceTransformer\n",
    "\n",
    "# Ejemplo de frases en español\n",
    "frases = [\n",
    "    'La programación es una habilidad clave en el mundo laboral actual.',\n",
    "    'El trabajo en equipo es fundamental en el desarrollo de proyectos de programación.',\n",
    "    'La industria tecnológica ofrece numerosas oportunidades laborales en el campo de la programación.',\n",
    "    'La programación es una forma creativa de resolver problemas.',\n",
    "    'La actualización constante de habilidades es esencial en el ámbito de la programación.',\n",
    "    'La práctica regular de deporte mejora la salud física y mental.',\n",
    "    'Una alimentación balanceada es fundamental para mantener una buena salud.',\n",
    "    'El deporte ayuda a reducir el estrés y mejorar el estado de ánimo.',\n",
    "    'La salud es un tesoro que debemos cuidar y valorar.',\n",
    "    'El deporte es una actividad divertida que nos permite mantenernos en forma.',\n",
    "    'Amo a mi perro con toda mi vida',\n",
    "    'Mi mascota es lo mejor que me ha sucedido'\n",
    "\n",
    "]\n",
    "\n",
    "# Crear el DataFrame\n",
    "df = pd.DataFrame({'frases': frases})\n",
    "\n",
    "# Cargar el modelo SentenceTransformer\n",
    "model = SentenceTransformer('paraphrase-multilingual-MiniLM-L12-v2')\n",
    "\n",
    "# Obtener las representaciones de las frases\n",
    "embeddings = model.encode(df['frases'].tolist())\n",
    "\n",
    "# Convertir las representaciones en un DataFrame\n",
    "embeddings_df = pd.DataFrame(embeddings)\n",
    "\n",
    "# Concatenar el DataFrame original con las representaciones\n",
    "df_concatenated = pd.concat([df, embeddings_df], axis=1)\n",
    "\n",
    "# Imprimir el DataFrame con las representaciones concatenadas\n",
    "df_concatenated.head(2)"
   ]
  },
  {
   "cell_type": "code",
   "execution_count": 8,
   "metadata": {},
   "outputs": [
    {
     "name": "stderr",
     "output_type": "stream",
     "text": [
      "c:\\Users\\jcasas\\AppData\\Local\\anaconda3\\envs\\Rotacion\\lib\\site-packages\\sklearn\\cluster\\_kmeans.py:870: FutureWarning: The default value of `n_init` will change from 10 to 'auto' in 1.4. Set the value of `n_init` explicitly to suppress the warning\n",
      "  warnings.warn(\n"
     ]
    },
    {
     "data": {
      "text/html": [
       "<div>\n",
       "<style scoped>\n",
       "    .dataframe tbody tr th:only-of-type {\n",
       "        vertical-align: middle;\n",
       "    }\n",
       "\n",
       "    .dataframe tbody tr th {\n",
       "        vertical-align: top;\n",
       "    }\n",
       "\n",
       "    .dataframe thead th {\n",
       "        text-align: right;\n",
       "    }\n",
       "</style>\n",
       "<table border=\"1\" class=\"dataframe\">\n",
       "  <thead>\n",
       "    <tr style=\"text-align: right;\">\n",
       "      <th></th>\n",
       "      <th>frases</th>\n",
       "      <th>cluster</th>\n",
       "    </tr>\n",
       "  </thead>\n",
       "  <tbody>\n",
       "    <tr>\n",
       "      <th>0</th>\n",
       "      <td>La programación es una habilidad clave en el m...</td>\n",
       "      <td>2</td>\n",
       "    </tr>\n",
       "    <tr>\n",
       "      <th>1</th>\n",
       "      <td>El trabajo en equipo es fundamental en el desa...</td>\n",
       "      <td>2</td>\n",
       "    </tr>\n",
       "    <tr>\n",
       "      <th>2</th>\n",
       "      <td>La industria tecnológica ofrece numerosas opor...</td>\n",
       "      <td>2</td>\n",
       "    </tr>\n",
       "    <tr>\n",
       "      <th>3</th>\n",
       "      <td>La programación es una forma creativa de resol...</td>\n",
       "      <td>2</td>\n",
       "    </tr>\n",
       "    <tr>\n",
       "      <th>4</th>\n",
       "      <td>La actualización constante de habilidades es e...</td>\n",
       "      <td>2</td>\n",
       "    </tr>\n",
       "    <tr>\n",
       "      <th>5</th>\n",
       "      <td>La práctica regular de deporte mejora la salud...</td>\n",
       "      <td>1</td>\n",
       "    </tr>\n",
       "    <tr>\n",
       "      <th>6</th>\n",
       "      <td>Una alimentación balanceada es fundamental par...</td>\n",
       "      <td>1</td>\n",
       "    </tr>\n",
       "    <tr>\n",
       "      <th>7</th>\n",
       "      <td>El deporte ayuda a reducir el estrés y mejorar...</td>\n",
       "      <td>1</td>\n",
       "    </tr>\n",
       "    <tr>\n",
       "      <th>8</th>\n",
       "      <td>La salud es un tesoro que debemos cuidar y val...</td>\n",
       "      <td>1</td>\n",
       "    </tr>\n",
       "    <tr>\n",
       "      <th>9</th>\n",
       "      <td>El deporte es una actividad divertida que nos ...</td>\n",
       "      <td>1</td>\n",
       "    </tr>\n",
       "    <tr>\n",
       "      <th>10</th>\n",
       "      <td>Amo a mi perro con toda mi vida</td>\n",
       "      <td>0</td>\n",
       "    </tr>\n",
       "    <tr>\n",
       "      <th>11</th>\n",
       "      <td>Mi mascota es lo mejor que me ha sucedido</td>\n",
       "      <td>0</td>\n",
       "    </tr>\n",
       "  </tbody>\n",
       "</table>\n",
       "</div>"
      ],
      "text/plain": [
       "                                               frases  cluster\n",
       "0   La programación es una habilidad clave en el m...        2\n",
       "1   El trabajo en equipo es fundamental en el desa...        2\n",
       "2   La industria tecnológica ofrece numerosas opor...        2\n",
       "3   La programación es una forma creativa de resol...        2\n",
       "4   La actualización constante de habilidades es e...        2\n",
       "5   La práctica regular de deporte mejora la salud...        1\n",
       "6   Una alimentación balanceada es fundamental par...        1\n",
       "7   El deporte ayuda a reducir el estrés y mejorar...        1\n",
       "8   La salud es un tesoro que debemos cuidar y val...        1\n",
       "9   El deporte es una actividad divertida que nos ...        1\n",
       "10                    Amo a mi perro con toda mi vida        0\n",
       "11          Mi mascota es lo mejor que me ha sucedido        0"
      ]
     },
     "execution_count": 8,
     "metadata": {},
     "output_type": "execute_result"
    }
   ],
   "source": [
    "# Aplicar el algoritmo K-means\n",
    "kmeans = KMeans(n_clusters=3, random_state=42)\n",
    "clusters = kmeans.fit_predict(embeddings)\n",
    "\n",
    "# Agregar los clusters al DataFrame\n",
    "df['cluster'] = clusters\n",
    "\n",
    "# Imprimir el DataFrame con los clusters\n",
    "df.head(12)"
   ]
  },
  {
   "cell_type": "code",
   "execution_count": 7,
   "metadata": {},
   "outputs": [
    {
     "name": "stderr",
     "output_type": "stream",
     "text": [
      "c:\\Users\\jcasas\\AppData\\Local\\anaconda3\\envs\\Rotacion\\lib\\site-packages\\sklearn\\cluster\\_kmeans.py:870: FutureWarning: The default value of `n_init` will change from 10 to 'auto' in 1.4. Set the value of `n_init` explicitly to suppress the warning\n",
      "  warnings.warn(\n"
     ]
    },
    {
     "data": {
      "text/html": [
       "<div>\n",
       "<style scoped>\n",
       "    .dataframe tbody tr th:only-of-type {\n",
       "        vertical-align: middle;\n",
       "    }\n",
       "\n",
       "    .dataframe tbody tr th {\n",
       "        vertical-align: top;\n",
       "    }\n",
       "\n",
       "    .dataframe thead th {\n",
       "        text-align: right;\n",
       "    }\n",
       "</style>\n",
       "<table border=\"1\" class=\"dataframe\">\n",
       "  <thead>\n",
       "    <tr style=\"text-align: right;\">\n",
       "      <th></th>\n",
       "      <th>frases</th>\n",
       "      <th>cluster</th>\n",
       "    </tr>\n",
       "  </thead>\n",
       "  <tbody>\n",
       "    <tr>\n",
       "      <th>0</th>\n",
       "      <td>La programación es una habilidad clave en el m...</td>\n",
       "      <td>0</td>\n",
       "    </tr>\n",
       "    <tr>\n",
       "      <th>1</th>\n",
       "      <td>La práctica regular de deporte mejora la salud...</td>\n",
       "      <td>1</td>\n",
       "    </tr>\n",
       "    <tr>\n",
       "      <th>2</th>\n",
       "      <td>El trabajo en equipo es fundamental en el desa...</td>\n",
       "      <td>0</td>\n",
       "    </tr>\n",
       "    <tr>\n",
       "      <th>3</th>\n",
       "      <td>Una alimentación balanceada es fundamental par...</td>\n",
       "      <td>1</td>\n",
       "    </tr>\n",
       "    <tr>\n",
       "      <th>4</th>\n",
       "      <td>La industria tecnológica ofrece numerosas opor...</td>\n",
       "      <td>0</td>\n",
       "    </tr>\n",
       "    <tr>\n",
       "      <th>5</th>\n",
       "      <td>El deporte ayuda a reducir el estrés y mejorar...</td>\n",
       "      <td>1</td>\n",
       "    </tr>\n",
       "    <tr>\n",
       "      <th>6</th>\n",
       "      <td>La programación es una forma creativa de resol...</td>\n",
       "      <td>0</td>\n",
       "    </tr>\n",
       "    <tr>\n",
       "      <th>7</th>\n",
       "      <td>La salud es un tesoro que debemos cuidar y val...</td>\n",
       "      <td>1</td>\n",
       "    </tr>\n",
       "    <tr>\n",
       "      <th>8</th>\n",
       "      <td>La actualización constante de habilidades es e...</td>\n",
       "      <td>0</td>\n",
       "    </tr>\n",
       "    <tr>\n",
       "      <th>9</th>\n",
       "      <td>El deporte es una actividad divertida que nos ...</td>\n",
       "      <td>1</td>\n",
       "    </tr>\n",
       "  </tbody>\n",
       "</table>\n",
       "</div>"
      ],
      "text/plain": [
       "                                              frases  cluster\n",
       "0  La programación es una habilidad clave en el m...        0\n",
       "1  La práctica regular de deporte mejora la salud...        1\n",
       "2  El trabajo en equipo es fundamental en el desa...        0\n",
       "3  Una alimentación balanceada es fundamental par...        1\n",
       "4  La industria tecnológica ofrece numerosas opor...        0\n",
       "5  El deporte ayuda a reducir el estrés y mejorar...        1\n",
       "6  La programación es una forma creativa de resol...        0\n",
       "7  La salud es un tesoro que debemos cuidar y val...        1\n",
       "8  La actualización constante de habilidades es e...        0\n",
       "9  El deporte es una actividad divertida que nos ...        1"
      ]
     },
     "execution_count": 7,
     "metadata": {},
     "output_type": "execute_result"
    }
   ],
   "source": [
    "import pandas as pd\n",
    "from sentence_transformers import SentenceTransformer\n",
    "\n",
    "# Ejemplo de frases en español\n",
    "frases = [\n",
    "    'La programación es una habilidad clave en el mundo laboral actual.',\n",
    "    'La práctica regular de deporte mejora la salud física y mental.',\n",
    "    'El trabajo en equipo es fundamental en el desarrollo de proyectos de programación.',\n",
    "    'Una alimentación balanceada es fundamental para mantener una buena salud.',\n",
    "    'La industria tecnológica ofrece numerosas oportunidades laborales en el campo de la programación.',\n",
    "    'El deporte ayuda a reducir el estrés y mejorar el estado de ánimo.',\n",
    "    'La programación es una forma creativa de resolver problemas.',\n",
    "    'La salud es un tesoro que debemos cuidar y valorar.',\n",
    "    'La actualización constante de habilidades es esencial en el ámbito de la programación.',\n",
    "    'El deporte es una actividad divertida que nos permite mantenernos en forma.'\n",
    "]\n",
    "\n",
    "# Crear el DataFrame\n",
    "df = pd.DataFrame({'frases': frases})\n",
    "\n",
    "# Cargar el modelo SentenceTransformer\n",
    "model = SentenceTransformer('paraphrase-multilingual-MiniLM-L12-v2')\n",
    "\n",
    "# Obtener las representaciones de las frases\n",
    "embeddings = model.encode(df['frases'].tolist())\n",
    "\n",
    "# Convertir las representaciones en un DataFrame\n",
    "embeddings_df = pd.DataFrame(embeddings)\n",
    "\n",
    "# Concatenar el DataFrame original con las representaciones\n",
    "df_concatenated = pd.concat([df, embeddings_df], axis=1)\n",
    "\n",
    "# Aplicar el algoritmo K-means\n",
    "kmeans = KMeans(n_clusters=2, random_state=42)\n",
    "clusters = kmeans.fit_predict(embeddings)\n",
    "\n",
    "# Agregar los clusters al DataFrame\n",
    "df['cluster'] = clusters\n",
    "\n",
    "# Imprimir el DataFrame con los clusters\n",
    "df.head(10)"
   ]
  },
  {
   "cell_type": "code",
   "execution_count": 10,
   "metadata": {},
   "outputs": [
    {
     "name": "stdout",
     "output_type": "stream",
     "text": [
      "[3, 2, 4]\n",
      "3\n"
     ]
    }
   ],
   "source": [
    "\n",
    "k_means_training(df_train, 100)\n",
    "kmeans_model = joblib.load('Clustering/Models/K_means/kmeans_model_BERT.pkl')\n",
    "labels = kmeans_model.labels_\n"
   ]
  },
  {
   "cell_type": "code",
   "execution_count": 11,
   "metadata": {},
   "outputs": [
    {
     "data": {
      "text/plain": [
       "array([0, 2, 0, 0, 1, 0, 0, 0, 0, 0, 2, 1, 1, 1, 2, 0, 0, 0, 0, 0, 0, 2,\n",
       "       0, 0, 0, 1, 1, 1, 1, 1, 2, 0, 1, 2, 1, 0, 0, 0, 1, 0, 0, 1, 1, 1,\n",
       "       1, 0, 2, 0, 0, 2, 0, 0, 2, 2, 0, 0, 0, 0, 1, 0, 0, 0, 0, 1, 0, 0,\n",
       "       2, 1, 1, 1, 0, 1, 0, 0, 0, 0, 1, 1, 1, 2, 0, 1, 0, 0, 1, 2, 1, 1,\n",
       "       0, 2, 0, 1, 1, 1, 0, 0, 1, 0, 1, 1, 0, 2, 2, 2, 1, 2, 1, 1, 2, 1,\n",
       "       1, 1, 1, 0, 1, 0, 1, 1, 0, 0, 0, 2, 1, 1, 1, 1, 0, 0, 1, 2, 2, 1,\n",
       "       2, 1, 2, 2, 0, 2, 1, 2, 1, 0, 2, 0, 1, 2, 0, 2, 0, 2, 0, 1, 1, 1,\n",
       "       1, 2, 0, 0, 0, 0, 2, 2, 2, 2, 1, 0, 2, 2, 0, 2, 2, 0, 1, 2, 2, 2,\n",
       "       1, 1, 1, 1, 1, 1, 1, 2, 0, 2, 1, 0, 1, 1, 1, 1, 1, 2, 1, 1, 1, 1,\n",
       "       0, 1, 1, 1, 2, 0, 1, 0, 0, 0, 0, 2, 2, 2, 2, 1, 0, 0, 1, 1, 0, 1,\n",
       "       1, 1, 1, 1, 2, 1, 2, 0, 1, 2, 1, 1, 1, 1, 1, 1, 0, 1, 1, 2, 1, 1,\n",
       "       1, 0, 1, 2, 0, 0, 2, 1, 0, 1, 1, 0, 1, 1, 1, 2, 1, 1, 1, 0, 2, 2,\n",
       "       2, 1, 0, 0, 0, 1, 2, 0, 2, 1, 0, 1, 1, 0, 0, 0, 2, 0, 1, 2, 0, 0,\n",
       "       0, 2, 2, 0, 0, 1, 2, 1, 2, 2, 2, 2, 2, 1, 2, 1, 2, 2, 1, 2, 1, 1,\n",
       "       2, 0, 2, 1, 1, 2, 1, 2, 1, 1, 0, 2, 1, 2, 1, 2, 2, 2, 2, 1, 2, 2,\n",
       "       2, 1, 2, 0, 2, 1, 2, 2, 2, 2, 2, 2, 2, 1, 2, 2, 2, 2, 2, 2, 0, 2,\n",
       "       2, 1, 2, 2, 2, 2, 2, 2, 2, 1, 2, 2, 2, 1, 2, 1, 1, 2, 1, 1, 1, 1,\n",
       "       1, 1, 1, 1, 0, 2, 1, 1, 1, 1, 1, 1, 1, 1, 1, 1, 1, 1, 1, 1, 1, 1,\n",
       "       1, 1, 1, 1, 1, 1, 1, 1, 1, 1, 0, 1, 1, 1, 1, 1, 0, 1, 1, 1, 1, 1,\n",
       "       1, 1, 2, 1, 1, 1, 0, 1, 1, 1, 1, 1, 1, 1, 1, 1, 1, 1, 1, 1, 1, 1,\n",
       "       1, 1, 1, 1, 1, 1, 1, 1, 1, 1, 1, 1, 1, 1, 1, 2, 1, 1, 1, 1, 2, 1,\n",
       "       1, 1, 1, 1, 1, 1, 1, 1, 1, 1, 1, 0, 1, 1, 1, 1, 1, 1, 1, 1, 1, 1,\n",
       "       1, 1, 0])"
      ]
     },
     "execution_count": 11,
     "metadata": {},
     "output_type": "execute_result"
    }
   ],
   "source": [
    "labels"
   ]
  },
  {
   "cell_type": "code",
   "execution_count": 18,
   "metadata": {},
   "outputs": [
    {
     "ename": "NameError",
     "evalue": "name 'embeddings_3d' is not defined",
     "output_type": "error",
     "traceback": [
      "\u001b[1;31m---------------------------------------------------------------------------\u001b[0m",
      "\u001b[1;31mNameError\u001b[0m                                 Traceback (most recent call last)",
      "Cell \u001b[1;32mIn[18], line 6\u001b[0m\n\u001b[0;32m      2\u001b[0m df[\u001b[39m'\u001b[39m\u001b[39mcluster\u001b[39m\u001b[39m'\u001b[39m] \u001b[39m=\u001b[39m labels\n\u001b[0;32m      4\u001b[0m \u001b[39m# Crear una figura 3D interactiva con Plotly\u001b[39;00m\n\u001b[0;32m      5\u001b[0m fig \u001b[39m=\u001b[39m go\u001b[39m.\u001b[39mFigure(data\u001b[39m=\u001b[39m[go\u001b[39m.\u001b[39mScatter3d(\n\u001b[1;32m----> 6\u001b[0m     x\u001b[39m=\u001b[39membeddings_3d[:, \u001b[39m0\u001b[39m],\n\u001b[0;32m      7\u001b[0m     y\u001b[39m=\u001b[39membeddings_3d[:, \u001b[39m1\u001b[39m],\n\u001b[0;32m      8\u001b[0m     z\u001b[39m=\u001b[39membeddings_3d[:, \u001b[39m2\u001b[39m],\n\u001b[0;32m      9\u001b[0m     mode\u001b[39m=\u001b[39m\u001b[39m'\u001b[39m\u001b[39mmarkers\u001b[39m\u001b[39m'\u001b[39m,\n\u001b[0;32m     10\u001b[0m     marker\u001b[39m=\u001b[39m\u001b[39mdict\u001b[39m(\n\u001b[0;32m     11\u001b[0m         size\u001b[39m=\u001b[39m\u001b[39m5\u001b[39m,\n\u001b[0;32m     12\u001b[0m         color\u001b[39m=\u001b[39mlabels,\n\u001b[0;32m     13\u001b[0m         colorscale\u001b[39m=\u001b[39m\u001b[39m'\u001b[39m\u001b[39mViridis\u001b[39m\u001b[39m'\u001b[39m,\n\u001b[0;32m     14\u001b[0m         opacity\u001b[39m=\u001b[39m\u001b[39m0.8\u001b[39m\n\u001b[0;32m     15\u001b[0m     )\n\u001b[0;32m     16\u001b[0m )])\n\u001b[0;32m     18\u001b[0m \u001b[39m# Configurar el título y los ejes\u001b[39;00m\n\u001b[0;32m     19\u001b[0m fig\u001b[39m.\u001b[39mupdate_layout(\n\u001b[0;32m     20\u001b[0m     title\u001b[39m=\u001b[39m\u001b[39m'\u001b[39m\u001b[39mClusters\u001b[39m\u001b[39m'\u001b[39m,\n\u001b[0;32m     21\u001b[0m     scene\u001b[39m=\u001b[39m\u001b[39mdict\u001b[39m(\n\u001b[1;32m   (...)\u001b[0m\n\u001b[0;32m     25\u001b[0m     )\n\u001b[0;32m     26\u001b[0m )\n",
      "\u001b[1;31mNameError\u001b[0m: name 'embeddings_3d' is not defined"
     ]
    }
   ],
   "source": [
    "# Agregar los resultados de la clusterización al DataFrame original\n",
    "df['cluster'] = labels\n",
    "\n",
    "# Crear una figura 3D interactiva con Plotly\n",
    "fig = go.Figure(data=[go.Scatter3d(\n",
    "    x=embeddings_3d[:, 0],\n",
    "    y=embeddings_3d[:, 1],\n",
    "    z=embeddings_3d[:, 2],\n",
    "    mode='markers',\n",
    "    marker=dict(\n",
    "        size=5,\n",
    "        color=labels,\n",
    "        colorscale='Viridis',\n",
    "        opacity=0.8\n",
    "    )\n",
    ")])\n",
    "\n",
    "# Configurar el título y los ejes\n",
    "fig.update_layout(\n",
    "    title='Clusters',\n",
    "    scene=dict(\n",
    "        xaxis_title='Dimensión 1',\n",
    "        yaxis_title='Dimensión 2',\n",
    "        zaxis_title='Dimensión 3'\n",
    "    )\n",
    ")\n",
    "\n",
    "# Mostrar la figura\n",
    "fig.show()\n"
   ]
  },
  {
   "cell_type": "code",
   "execution_count": 12,
   "metadata": {},
   "outputs": [
    {
     "data": {
      "application/vnd.plotly.v1+json": {
       "config": {
        "plotlyServerURL": "https://plot.ly"
       },
       "data": [
        {
         "marker": {
          "color": [
           0,
           2,
           0,
           0,
           1,
           0,
           0,
           0,
           0,
           0,
           2,
           1,
           1,
           1,
           2,
           0,
           0,
           0,
           0,
           0,
           0,
           2,
           0,
           0,
           0,
           1,
           1,
           1,
           1,
           1,
           2,
           0,
           1,
           2,
           1,
           0,
           0,
           0,
           1,
           0,
           0,
           1,
           1,
           1,
           1,
           0,
           2,
           0,
           0,
           2,
           0,
           0,
           2,
           2,
           0,
           0,
           0,
           0,
           1,
           0,
           0,
           0,
           0,
           1,
           0,
           0,
           2,
           1,
           1,
           1,
           0,
           1,
           0,
           0,
           0,
           0,
           1,
           1,
           1,
           2,
           0,
           1,
           0,
           0,
           1,
           2,
           1,
           1,
           0,
           2,
           0,
           1,
           1,
           1,
           0,
           0,
           1,
           0,
           1,
           1,
           0,
           2,
           2,
           2,
           1,
           2,
           1,
           1,
           2,
           1,
           1,
           1,
           1,
           0,
           1,
           0,
           1,
           1,
           0,
           0,
           0,
           2,
           1,
           1,
           1,
           1,
           0,
           0,
           1,
           2,
           2,
           1,
           2,
           1,
           2,
           2,
           0,
           2,
           1,
           2,
           1,
           0,
           2,
           0,
           1,
           2,
           0,
           2,
           0,
           2,
           0,
           1,
           1,
           1,
           1,
           2,
           0,
           0,
           0,
           0,
           2,
           2,
           2,
           2,
           1,
           0,
           2,
           2,
           0,
           2,
           2,
           0,
           1,
           2,
           2,
           2,
           1,
           1,
           1,
           1,
           1,
           1,
           1,
           2,
           0,
           2,
           1,
           0,
           1,
           1,
           1,
           1,
           1,
           2,
           1,
           1,
           1,
           1,
           0,
           1,
           1,
           1,
           2,
           0,
           1,
           0,
           0,
           0,
           0,
           2,
           2,
           2,
           2,
           1,
           0,
           0,
           1,
           1,
           0,
           1,
           1,
           1,
           1,
           1,
           2,
           1,
           2,
           0,
           1,
           2,
           1,
           1,
           1,
           1,
           1,
           1,
           0,
           1,
           1,
           2,
           1,
           1,
           1,
           0,
           1,
           2,
           0,
           0,
           2,
           1,
           0,
           1,
           1,
           0,
           1,
           1,
           1,
           2,
           1,
           1,
           1,
           0,
           2,
           2,
           2,
           1,
           0,
           0,
           0,
           1,
           2,
           0,
           2,
           1,
           0,
           1,
           1,
           0,
           0,
           0,
           2,
           0,
           1,
           2,
           0,
           0,
           0,
           2,
           2,
           0,
           0,
           1,
           2,
           1,
           2,
           2,
           2,
           2,
           2,
           1,
           2,
           1,
           2,
           2,
           1,
           2,
           1,
           1,
           2,
           0,
           2,
           1,
           1,
           2,
           1,
           2,
           1,
           1,
           0,
           2,
           1,
           2,
           1,
           2,
           2,
           2,
           2,
           1,
           2,
           2,
           2,
           1,
           2,
           0,
           2,
           1,
           2,
           2,
           2,
           2,
           2,
           2,
           2,
           1,
           2,
           2,
           2,
           2,
           2,
           2,
           0,
           2,
           2,
           1,
           2,
           2,
           2,
           2,
           2,
           2,
           2,
           1,
           2,
           2,
           2,
           1,
           2,
           1,
           1,
           2,
           1,
           1,
           1,
           1,
           1,
           1,
           1,
           1,
           0,
           2,
           1,
           1,
           1,
           1,
           1,
           1,
           1,
           1,
           1,
           1,
           1,
           1,
           1,
           1,
           1,
           1,
           1,
           1,
           1,
           1,
           1,
           1,
           1,
           1,
           1,
           1,
           0,
           1,
           1,
           1,
           1,
           1,
           0,
           1,
           1,
           1,
           1,
           1,
           1,
           1,
           2,
           1,
           1,
           1,
           0,
           1,
           1,
           1,
           1,
           1,
           1,
           1,
           1,
           1,
           1,
           1,
           1,
           1,
           1,
           1,
           1,
           1,
           1,
           1,
           1,
           1,
           1,
           1,
           1,
           1,
           1,
           1,
           1,
           1,
           1,
           2,
           1,
           1,
           1,
           1,
           2,
           1,
           1,
           1,
           1,
           1,
           1,
           1,
           1,
           1,
           1,
           1,
           1,
           0,
           1,
           1,
           1,
           1,
           1,
           1,
           1,
           1,
           1,
           1,
           1,
           1,
           0
          ],
          "colorscale": [
           [
            0,
            "#440154"
           ],
           [
            0.1111111111111111,
            "#482878"
           ],
           [
            0.2222222222222222,
            "#3e4989"
           ],
           [
            0.3333333333333333,
            "#31688e"
           ],
           [
            0.4444444444444444,
            "#26828e"
           ],
           [
            0.5555555555555556,
            "#1f9e89"
           ],
           [
            0.6666666666666666,
            "#35b779"
           ],
           [
            0.7777777777777778,
            "#6ece58"
           ],
           [
            0.8888888888888888,
            "#b5de2b"
           ],
           [
            1,
            "#fde725"
           ]
          ],
          "opacity": 0.8,
          "size": 5
         },
         "mode": "markers",
         "type": "scatter",
         "x": [
          -0.3862380485945677,
          1.6642106827966614,
          0.12164285058718537,
          -0.37866370807198396,
          -0.6442073592877584,
          0.6165310116421783,
          1.2661073585085534,
          -0.17860862748214693,
          1.2545493842536957,
          -1.2366333179582518,
          1.1505460874228894,
          -0.8026055826747144,
          -1.3636978886318014,
          -1.0713992189555,
          1.3375088302531832,
          -0.427040533667913,
          0.6140739480128955,
          1.2753697817541885,
          -0.18172776930199808,
          0.018736954213480764,
          1.2861957479131354,
          1.338835150252652,
          0.41589807607551904,
          -0.5755497290463338,
          -0.23437898111237845,
          -1.5983971065440223,
          -1.6457081652802352,
          -0.7946213417300423,
          -1.7673510139743278,
          -1.3207896960750445,
          1.924950122058029,
          -0.229547000254211,
          -1.6506210470882103,
          1.4861901024037285,
          -1.6306621327927266,
          0.07373056785544738,
          0.03019818693529179,
          0.3495122426085758,
          -0.38946311362838965,
          1.2620331125635027,
          -0.42064970237698507,
          -1.6302229761609457,
          -1.6396626633773592,
          -0.4604224001852948,
          0.2550703498519757,
          -0.31851674420994086,
          0.29772415127192675,
          -0.17070089419078888,
          -0.45181202596671916,
          1.284557017223318,
          0.20532491707433112,
          -0.16589878943717115,
          1.2224965067654483,
          1.2219591040297069,
          -0.48811801411571887,
          0.3532802632062894,
          0.3540464532773553,
          0.35491988751418285,
          -1.427377973719986,
          0.4694290617016615,
          -0.5827873541558286,
          0.022682936510842713,
          0.9123593476577486,
          -1.824967147517092,
          0.3382854902588117,
          0.8299188342965327,
          1.798867872543099,
          -0.2899476053969595,
          -0.8588976458092128,
          -0.7122435233221395,
          0.30994586163149734,
          -1.0661305113906283,
          -0.932973889219815,
          -0.7226210448580259,
          1.177689576691638,
          0.6262827912014141,
          -0.7445692737771683,
          -0.32490541135447526,
          -0.21655466650587732,
          1.9016232108827045,
          0.029153524681101158,
          -0.6451862713510734,
          -0.0918151283528405,
          -0.33963672361451097,
          -1.0880889464023245,
          0.5517591288505078,
          -0.05257651979301999,
          -1.4287636886242947,
          0.2220443511960107,
          0.5937635531363764,
          1.269394865488697,
          -0.3483125693939487,
          -0.9653596722260777,
          -0.9653326472107675,
          -0.5294171484473202,
          0.5024219385197479,
          -0.6853492267054972,
          0.5928711676090268,
          -1.1579822480898752,
          -0.736217741530526,
          0.4500454917179757,
          3.1412735954898214,
          3.1445630425110522,
          1.5755545893599563,
          -1.2319099871885846,
          0.918943075996105,
          0.266378500129024,
          -1.219338081526892,
          1.7034321033566862,
          -0.9003768894698255,
          -0.30340445281777745,
          -0.7255155453267715,
          -1.4975355195425322,
          0.8174550900555465,
          -0.056485874447198006,
          -0.17942967159751347,
          -0.1683367081040672,
          -0.9430691725324098,
          0.06322251758570945,
          -0.6877640678320881,
          0.5511213103201339,
          0.6036169273201225,
          -0.9139903170977084,
          -0.5329950029428835,
          -1.0451155776938355,
          -0.8372854591040917,
          -0.46733586965800417,
          0.42280431721815215,
          -0.23102879917445343,
          0.5975452741247796,
          0.9443294093780169,
          -0.49169225212993833,
          1.2432397501068526,
          -0.9553454329325106,
          1.3090388273288345,
          1.058424920771042,
          -0.1548901804132342,
          1.5463989497138637,
          -0.8956830764512222,
          3.1172874735584366,
          -0.2591876482914505,
          -0.9213817723118415,
          0.5098415395820384,
          -0.0035620039133948066,
          -0.09978661490434919,
          1.3526534092050548,
          -1.0266543265872274,
          3.1505048916676026,
          -0.6196344640624736,
          3.1445526944723854,
          -0.09825109024208548,
          0.043201174673869476,
          -0.4103154431143408,
          -0.2928296649798431,
          -0.8799651784881184,
          1.021502327787453,
          0.024462450704369976,
          0.2713103655513395,
          -0.11573554165177137,
          0.9709526313344045,
          1.1283713638469293,
          0.7516057722623065,
          0.2963743958924909,
          0.9345921359618004,
          -0.13299342514179266,
          -0.19429821662667443,
          1.145076352295853,
          0.7098315446385693,
          -0.4417389046153649,
          0.17546758423969325,
          0.3482697902658611,
          0.7075282312532436,
          -0.41039300471511647,
          0.24258642268712433,
          0.383086430429013,
          0.3596805109854065,
          -0.3238566458450411,
          -0.22311532164504633,
          -1.5974311517889674,
          -0.9041212974866258,
          -1.633608037317705,
          -0.7299248050651993,
          -1.3379637115034764,
          0.4888391935308713,
          0.2496439484976152,
          0.9050674684921733,
          -1.1465699104972402,
          -0.4221516592865581,
          -1.0255406352074292,
          -0.6438596110651134,
          -0.4132457842147672,
          0.20625604037791267,
          -0.7760741460823475,
          0.6963279435788371,
          -0.1310093258016183,
          -0.8455539483786794,
          -0.25708340003382435,
          -1.2629759442540847,
          -0.05851547848971678,
          -0.27430923351891495,
          -0.019591011383938543,
          -0.8042064563843254,
          2.059061084753637,
          -0.712965960839925,
          -1.155901032988508,
          0.08528509979288877,
          -0.06913908234303351,
          -0.08491268365420096,
          0.028411901743705677,
          0.588540653683371,
          0.3711521501283577,
          1.5147547212601542,
          2.0746311355939957,
          -0.22342693477195355,
          -0.15556648518482846,
          0.5104880923622823,
          -0.6609172726394192,
          -0.7463263203484245,
          0.21154617294379688,
          -1.0127487055415945,
          -2.4889820908890634,
          -1.0636385511301318,
          -0.9160466103272354,
          -0.048364648099137784,
          2.478523291508394,
          -1.5122102200274459,
          1.4246888594079534,
          -0.15903936256433063,
          -0.862210967911994,
          1.202105864983857,
          -0.0006596869596106668,
          0.05388833626917466,
          -1.3527721745867929,
          -0.7834024867522416,
          -1.1807560062678981,
          -0.5405413753624502,
          -0.20155472059008014,
          -0.5522834671420939,
          -1.3394642305905662,
          0.5314061247874692,
          -0.9626218250759505,
          -0.9320303673280604,
          -1.6298430161539255,
          0.17910974250622652,
          -0.5252383897999874,
          1.3183793448988304,
          0.5530613158685246,
          0.70171610172711,
          1.2643201316671393,
          -1.4810481822360506,
          -1.1658293417615748,
          -0.2878256622689431,
          -0.7596724411954066,
          0.49797913213092265,
          -0.015413272838018967,
          -1.706600696746484,
          -0.5122255985896994,
          0.584302045568501,
          -1.0092382472635577,
          -0.8666068456353194,
          -1.6616617117924866,
          0.1932589357181247,
          1.5483480874364939,
          1.1730346684875357,
          1.954759432207351,
          -1.1138972836012337,
          0.2947425894421058,
          0.6327285971878527,
          1.0457317755542652,
          -0.8947585344788945,
          0.44014444072734776,
          0.5844950829819169,
          2.2455327207407363,
          -1.3768611131583295,
          -0.8796791979648825,
          -0.27631728375259007,
          -1.5557425737664512,
          0.05951187061744663,
          -0.1633806336659779,
          1.2444036631996787,
          1.3229574904780268,
          1.151962625078092,
          -1.4124942678376546,
          0.40838425801663425,
          0.9828537398117233,
          0.656792551698107,
          -0.3241714293602467,
          2.108858305603785,
          1.325909894366667,
          -0.3017804653734056,
          0.004458332507378821,
          -0.06037510832505299,
          1.176044126873658,
          -0.036632966505112274,
          1.4895580829009765,
          1.6425809203852975,
          1.3499494821751443,
          1.5889452228195016,
          0.3705560424536017,
          -0.027718970161228162,
          2.0809004370340696,
          -1.4915003288070876,
          1.9816520245766656,
          2.064467123308571,
          -0.13628662286948848,
          1.354675169120015,
          0.04450856504699066,
          -1.2915942997539578,
          1.974233166814437,
          -0.37795083299509674,
          1.3667505548533552,
          -1.2741157411660076,
          -1.7708577416659428,
          1.296272990363591,
          -0.4240330348352249,
          1.3076904812804961,
          -0.4064618831278235,
          -1.2906544241583642,
          -0.5372808986799448,
          1.4161997229945567,
          0.26317223344700624,
          1.319071458822533,
          -1.218580439682927,
          0.9371614252300591,
          0.4712745279901429,
          1.042221595822514,
          1.6121424632438481,
          -1.1589943786237513,
          0.5941653113073481,
          0.9971591667782168,
          1.08816060075645,
          -0.26599554067020986,
          0.2919476993842646,
          0.036705648740954146,
          0.892821566164152,
          -0.741949095211515,
          0.815240315890524,
          1.3496511842881744,
          1.4766355585910418,
          1.1821340902591548,
          1.2022847036621618,
          1.5366922248827763,
          1.497479824218277,
          -0.6697593402895623,
          3.142570310963428,
          1.4677753587760174,
          1.7344041702090351,
          1.8571058006880843,
          1.6437245087891366,
          1.6144881537811717,
          -0.22241050450527797,
          1.7501984748813604,
          1.343055241975489,
          -0.8620535047449024,
          1.7736398189314149,
          0.5649985049309061,
          1.1391939364934291,
          1.3798657681791355,
          0.4982032830472917,
          0.7194971129148312,
          0.8460717721234778,
          -0.10521185639722025,
          0.3422145036575699,
          1.1833488968037116,
          1.748867383386811,
          -0.11997622271415383,
          1.2421172750493932,
          -1.4333633799853474,
          -0.2569013876829039,
          0.9568500830987926,
          -1.0353864554645018,
          -1.6126536522409582,
          -0.8762298957284442,
          -0.5275830494133835,
          -1.1040506569875022,
          0.070692133961691,
          -0.20634572039287102,
          -0.5845290468363912,
          -0.31856529788549803,
          0.23877839251772667,
          -0.21870749808824913,
          -1.1164273122873918,
          -0.5524212608870193,
          -0.9718017573762473,
          -0.7113213900757474,
          -1.1266802541982328,
          -0.31130486310143246,
          -0.7811627978520479,
          -0.2243522174635749,
          -0.29864978469520953,
          -0.5337596263237631,
          -0.6727792219833829,
          -0.21163391842908402,
          -0.8761460250796566,
          -1.231802781944964,
          -0.32177761952644646,
          0.05165867744599774,
          0.0744158965211348,
          -0.8091596541133119,
          -0.23376191663160087,
          -0.9039101687265897,
          -0.6900779853842488,
          0.1588191139455969,
          -0.3497943849319805,
          -0.5549287747192498,
          0.0701712201233984,
          -0.7950883351471404,
          -0.9313019787583386,
          -0.10532079463640588,
          -0.9237151564664047,
          -0.061240706902198364,
          0.11054188620660962,
          -0.28893014919390386,
          -1.1392499330917603,
          0.35313265471968047,
          -0.24060055832530144,
          -0.40347070941200464,
          -1.101257171921226,
          0.014016129043347422,
          -0.9693625235914979,
          0.5311325907375566,
          -0.3422597676442858,
          -0.3395596130426771,
          -0.2715202391685569,
          -0.6966918620804695,
          -0.6857779699071038,
          -0.7127080034983136,
          -0.24114713307902644,
          0.09270950562721804,
          0.29371749729773555,
          -0.15574260987879834,
          -0.22178831031340382,
          -0.013320985254858034,
          -0.5160128482428952,
          -0.5165831155972198,
          -1.3032822775403121,
          0.0465319881616332,
          -0.42009578564407074,
          -0.4103336863759187,
          -0.851060972761371,
          -0.6402099397530592,
          -0.5316148003050973,
          -0.8694836014026255,
          -0.29194839510212883,
          -0.38350696780965987,
          -0.059563464901011436,
          -0.9602464896792758,
          0.08837782568494273,
          -0.8789357001943573,
          -0.35098042913975047,
          -0.12862431043987907,
          -1.0278731151950609,
          -0.1726398407459967,
          -0.22509985426008636,
          -0.23651273445917717,
          0.5136854678708332,
          -0.47022633909518574,
          -1.1786040663576554,
          0.024163473894525056,
          -0.6703699072750049,
          0.630297489811997,
          0.1296811149912262,
          -0.8092685066197199,
          -0.6811455057364241,
          0.19280514673746948,
          -0.5932439759495819,
          -0.00967381839200594,
          -0.04365268196541152,
          -0.7056657426731593,
          -0.3957369060578772,
          -1.1700846189974838,
          -0.2712418834839243,
          -0.022674308448681745,
          -0.5111544293870597,
          -1.147571400041083,
          -0.6297678035458036,
          -1.067736346459073,
          -0.08866168935646516,
          -0.22458733077412038,
          -0.44607713786350683,
          -1.0484112677474708,
          0.33050965766672113,
          -0.3193387396728005,
          -0.20148712979840563,
          -0.10363170486665055,
          -0.31040514192781204,
          -0.07420134235175346
         ],
         "y": [
          1.090510773839615,
          0.15204823292456124,
          1.0948922878705694,
          1.1082287886948405,
          0.370119903178813,
          1.3754016745182667,
          1.682701474265724,
          1.3385741658684458,
          1.9018510974643112,
          1.8592789253097612,
          0.3513187096024411,
          0.3484292905420562,
          0.23781299020256838,
          0.5075861285932046,
          0.723966061399337,
          0.9393961120789369,
          1.7533336251012452,
          1.056129788717266,
          1.6370915211943269,
          0.7517502144755532,
          0.9152530209333547,
          0.1689797578504791,
          0.803079203839349,
          1.3129188965520764,
          1.181259615291883,
          -0.05399985332729752,
          -0.04908770187335189,
          -0.24203762440591667,
          -0.07020629580004673,
          -0.04474940995380744,
          0.2793449867355292,
          1.0393072799938177,
          -0.0912996643427004,
          0.4999616687096204,
          -0.06386163772751591,
          1.9723791620988722,
          0.4604667980179059,
          0.7241369703180812,
          -0.6935061962597114,
          1.8945754032451332,
          1.7016641455302428,
          -0.05572120186330905,
          -0.05895898546421584,
          -0.3055787007451767,
          -0.4685251872402959,
          1.4847214326193026,
          -1.3173817239639838,
          0.6642388771112008,
          2.1657869434547337,
          0.09664806088505987,
          2.7977508568155565,
          2.1871740353895284,
          0.17894425519327062,
          0.07563471488507699,
          0.6260115550512788,
          1.8179306800457151,
          1.800822575434134,
          1.8001699150926227,
          -0.1583071035680304,
          1.2681415150505886,
          1.5450070719254,
          0.3828592276326283,
          0.8171122136216646,
          -0.47192741411416494,
          2.7903557314515868,
          0.7266601034694343,
          -0.27542741486190775,
          -0.18006205991414295,
          0.6211240079396801,
          0.529489086160134,
          0.7551468397244868,
          0.09313212939830177,
          1.4506402883183533,
          1.1541557043363126,
          0.9823259814525316,
          0.8652520701165236,
          -0.18435238345552013,
          -0.8179628274949341,
          -0.17295792224105241,
          -0.24365011479264878,
          1.539775147894521,
          -0.3201817165880642,
          0.5204728367568481,
          0.4376693938651123,
          -0.4440809474489772,
          -0.2558484852715305,
          -0.8228889552403569,
          -0.3002319583802022,
          1.6663502018936647,
          -0.5845736814202506,
          0.9661393002843285,
          -0.5422373621870633,
          0.12152752512358807,
          0.12156753097096973,
          0.6115267741955316,
          1.3158686419109822,
          0.056863512247421706,
          0.8024453902991818,
          0.1440364546571219,
          0.057333896934541384,
          1.0387124574417699,
          -0.8139289946245337,
          -0.6723779808557316,
          -0.09828303622853415,
          -0.24899552902103889,
          -0.38270046906389915,
          -0.6373486856669095,
          -0.4506801245515696,
          -0.43602151945132245,
          0.06274015660178786,
          -1.0597724521974603,
          0.43211044691813594,
          0.13725495675383662,
          0.6805546071716343,
          -0.4486168245577922,
          0.4528276987529847,
          0.2533024593914169,
          -0.6022319452327957,
          0.2526182901300168,
          0.7944733170383074,
          1.303524282052391,
          0.15133384276568185,
          -0.5549041238528046,
          0.13574143784954595,
          -0.5684218735656994,
          -0.8329217597958534,
          1.46720591889455,
          0.28372027898627195,
          -0.4526287709818488,
          -0.11513510443908745,
          -0.5968927665416307,
          -0.3867777957412332,
          -0.9817215474690397,
          -0.38691789898915907,
          0.45068709405525526,
          0.23802805184338563,
          0.44543742282325416,
          -0.16085066974397494,
          -0.0027394219058125965,
          -0.6763793239313761,
          -0.05225948702300312,
          1.630443208348237,
          -0.497651082353332,
          2.0530614007409986,
          -0.8342229320444103,
          -0.8001917956531002,
          0.7091308555949575,
          -0.6133418520909778,
          2.5292084584225165,
          -0.639472813719906,
          0.2970921663079981,
          0.08007124365622435,
          -1.3102928749835443,
          -0.13396569437874933,
          0.19242506946716761,
          -0.49683841794471384,
          0.6157112599161962,
          1.191025017437171,
          0.5023952074899529,
          0.7897423078266406,
          0.01965669161206154,
          -0.5018966639519332,
          -0.7217783531891659,
          -1.2760545956259175,
          -0.4652950761527107,
          2.087752634186395,
          -0.8185556024497063,
          0.2201461084680445,
          2.6548658123842963,
          -1.4828915324452898,
          -0.5051328757384947,
          0.780321685582385,
          0.2665598129388335,
          -0.06824125743925166,
          -0.36544883140846096,
          -0.5088477779369038,
          -0.6192143712527404,
          -0.39071597093152255,
          -0.3995871816239565,
          -0.4665686652826445,
          -0.3763730331828157,
          -0.3456317129883349,
          -0.3180170893653189,
          0.32847659079296326,
          0.40987095231579057,
          -0.3902999080328644,
          -0.08737031860940021,
          1.4981071219292026,
          0.2115465921195185,
          0.5890623434350131,
          -0.48944631005215866,
          -0.0228557354988891,
          0.5596269859606552,
          -0.4126322476749574,
          -0.8864189367310933,
          -0.7865986568931277,
          -0.4184114849084225,
          0.12024119347837424,
          2.0271056509913796,
          -0.06770976034690888,
          -0.9354399086771481,
          0.11031632432641732,
          -0.16551958932393052,
          0.9773172153341094,
          -0.47254578271574704,
          2.1243928810368837,
          1.336440395420116,
          2.1105551146808854,
          1.9637843371626633,
          0.09539412620574944,
          -1.4477189255030094,
          -0.41074664091205004,
          -0.6922235724085104,
          0.26590442229625116,
          2.0012840204200617,
          0.5548992855695531,
          -0.38554240694620656,
          -0.22127258755440893,
          0.20145016184803252,
          -0.07254692920028899,
          -1.0097173330470393,
          -0.2802330248472351,
          -0.03903989486093257,
          -0.39444213992535326,
          -0.5651625030826729,
          -0.6786159417519558,
          0.03633985044927891,
          0.30496104741267077,
          0.3738609294851515,
          -0.6442350852022752,
          -0.22491033944545985,
          -0.5598360462242897,
          -1.0855142136465024,
          -0.44964542115570505,
          0.9265533736433196,
          -0.030320419180762996,
          0.4025673315697692,
          -1.1304349339407842,
          -0.8625325170452466,
          -0.9122553724855217,
          -0.20744663720901388,
          0.1502106378309616,
          -0.6384459931388129,
          2.2248278138175643,
          -0.2738926441198518,
          0.018619438325243372,
          0.7561459212046008,
          1.0069612455610562,
          0.39041448287484504,
          -0.16432027273949665,
          1.3554620447696428,
          -0.6497523723353661,
          -0.4586530055755408,
          0.4904347479624836,
          -0.3854625780570644,
          -0.977523805318133,
          -1.0943987926714274,
          -1.2455627663031867,
          -0.8907404069484067,
          -1.2600975917328863,
          -1.0236483633174465,
          0.5535168680334791,
          -0.22272187264580956,
          0.6564822230141729,
          -0.3228242105168194,
          -0.7161590815813856,
          0.19778484145804417,
          0.5251012929581503,
          0.8536017976322816,
          0.5499872418877143,
          -0.4027790910440746,
          1.5737867416878435,
          0.1896506859604217,
          -0.594495423928074,
          1.7599626883466337,
          0.26631703418495006,
          -0.5520347456469097,
          2.301843493613201,
          0.4036695608225725,
          1.0254164955672125,
          0.5333043866881813,
          0.9812522677086668,
          -0.8344928704639818,
          0.2853104751413141,
          0.773092650314512,
          0.7731379553289198,
          2.653846884446552,
          -0.643531821927948,
          -0.11862365856881034,
          1.0612530084671268,
          1.6564506574417472,
          -1.1018142357660796,
          0.11824622771260408,
          -0.21422393759401429,
          -0.18476545033578864,
          0.02874737633933322,
          0.06633344109302786,
          0.07153206935764334,
          -0.6206515259460574,
          -0.7739103457806441,
          -0.5420514691040917,
          -0.2404078673788456,
          -0.4422429116796573,
          -0.6867084508991739,
          -0.15791018438085996,
          -0.21140350260989685,
          -0.07039157503172377,
          -0.7219303544602419,
          -0.19715572006032134,
          0.3656736189243846,
          -0.4657895332075356,
          -0.3673244832981366,
          -1.196382365968535,
          -0.020191320167905567,
          -0.8496334720031594,
          -0.13852105318595637,
          -0.4512070720059316,
          0.4161652357396702,
          1.4751107155255274,
          0.001270802471456919,
          -0.6763169500934604,
          -0.035291750637053115,
          -0.4850788415376455,
          -0.3781762546706663,
          -0.5834203737168645,
          0.4702324088132768,
          0.47189805696914766,
          -0.53658211719522,
          -0.46495546047431074,
          -0.2509328644786526,
          -0.7544443798236345,
          -0.18669900374850776,
          -1.587270659644333,
          0.16187513230727535,
          -1.1798112593577246,
          -1.2308785653305097,
          -0.891267857171018,
          -0.3434662133974371,
          -1.142690024074756,
          -0.5726463024222966,
          -1.096290864459882,
          -1.5453392385922038,
          -1.5031017875295463,
          -1.2019960046321982,
          -0.5188477033801432,
          -0.22012615279927297,
          0.17018081929413692,
          -0.47838010361759836,
          -0.7489424720307645,
          -0.45890994359351966,
          0.9782357979721968,
          -1.2358356319017503,
          -0.4935035431845552,
          -0.6721895704351611,
          -0.5996936755600183,
          -0.3852304997156771,
          -0.6838716901347758,
          -0.6608375392667616,
          -0.8310077844927031,
          -0.020391719223278624,
          -0.5980794187086366,
          -0.4561229141275436,
          -0.24139382856527056,
          -0.7709592083107023,
          -0.5952645414395812,
          -1.0253862270017668,
          -0.5239106480502892,
          0.13166358954817114,
          -1.275088355340487,
          -0.2550708171696916,
          -0.34633460889538276,
          -0.6804925456576487,
          -0.7769450688559444,
          0.31545354085784455,
          -0.28894476180594075,
          -0.8123260030920405,
          -0.9677389831335201,
          -0.5630440171556663,
          0.8457640534597247,
          -0.8309278877892424,
          -0.6558429961904843,
          -0.9830873764573447,
          -0.6569171710541066,
          -0.8178558733296707,
          -0.0964886721427397,
          -0.9106070069122341,
          -1.0304807434722174,
          -0.5687395845661347,
          -0.42515987306727776,
          -0.7375493400200827,
          0.09029216441925814,
          -0.6191131042240593,
          -0.8198893488920835,
          -0.3309848344502268,
          -0.19383031509503457,
          -0.8230534327939095,
          -0.06952908642890204,
          -0.2902251899254405,
          0.049925050575107634,
          -0.17481429149208097,
          -0.3909684646604965,
          -0.17613812377276336,
          -0.37076706610993015,
          -0.5609603210083175,
          -0.5060600025072661,
          -0.6469907689963179,
          1.039411386506893,
          0.46899044580611476,
          -0.07156160903939023,
          -0.33213449770132664,
          -0.9193002678454805,
          -0.5442370550555535,
          2.4089485889199875,
          -0.6079183196265036,
          -0.30932100433073223,
          -0.6912928981314419,
          -0.809003053387401,
          0.3286119194987546,
          -0.3973164594706287,
          -0.22723319865662295,
          -0.16180521418328328,
          -0.8411375450867301,
          -1.1802060441765774,
          -0.7109073882781598,
          0.9130754459196133,
          -0.4219304436405188,
          -0.9330171227337101,
          -0.8754257081724927,
          -1.2015184534989658,
          0.023528141961962207,
          -1.0836281110124186,
          0.12314847223748449,
          -0.798265421958818,
          -0.21944874258165417,
          -0.8187776541654171,
          -0.1736882278799805,
          -0.3926802328901009,
          -0.3132859037349481,
          -0.23905125946175781,
          0.2115403008793876,
          0.32627125258532347,
          -0.42703603522772915,
          0.12881416099588477,
          0.03618751765630582,
          -0.7257034026808348,
          -0.5234690661026533,
          -0.48354624956438746,
          -0.1277448132888212,
          0.31571730328334596,
          -0.016290923822961198,
          -0.3054605804962416,
          -0.2678953127845468,
          -0.1882851794563256,
          -0.517034366994441,
          -0.268238195890469,
          -0.595220249736787,
          -0.41497573592117815,
          0.22900025364803778,
          -0.32372261733088153,
          -0.6771106366990718,
          -0.686724404873072,
          -0.48476100889421003,
          -0.2883039403735358,
          -0.5556108030269724,
          -0.7163613745945698,
          -0.5992754680227356,
          -0.4658527702045,
          -0.8132710005331117,
          -0.07885488340951739,
          -0.40292172807245874,
          0.18860910093234817,
          -1.0784913209326006,
          -0.15160187616664325,
          1.2400881475193113,
          -0.3629301140565535,
          0.11664471080921747,
          0.04838642349484566,
          -0.9128979994424505,
          -0.24408534518451516,
          -0.3938253190428774,
          -0.551409133993444,
          -0.6796284079030239,
          -0.42170559120158707,
          -0.4158743682319322,
          -0.44280187074574673,
          -0.9391851713365158,
          1.4245468225449966
         ]
        }
       ],
       "layout": {
        "template": {
         "data": {
          "bar": [
           {
            "error_x": {
             "color": "#2a3f5f"
            },
            "error_y": {
             "color": "#2a3f5f"
            },
            "marker": {
             "line": {
              "color": "#E5ECF6",
              "width": 0.5
             },
             "pattern": {
              "fillmode": "overlay",
              "size": 10,
              "solidity": 0.2
             }
            },
            "type": "bar"
           }
          ],
          "barpolar": [
           {
            "marker": {
             "line": {
              "color": "#E5ECF6",
              "width": 0.5
             },
             "pattern": {
              "fillmode": "overlay",
              "size": 10,
              "solidity": 0.2
             }
            },
            "type": "barpolar"
           }
          ],
          "carpet": [
           {
            "aaxis": {
             "endlinecolor": "#2a3f5f",
             "gridcolor": "white",
             "linecolor": "white",
             "minorgridcolor": "white",
             "startlinecolor": "#2a3f5f"
            },
            "baxis": {
             "endlinecolor": "#2a3f5f",
             "gridcolor": "white",
             "linecolor": "white",
             "minorgridcolor": "white",
             "startlinecolor": "#2a3f5f"
            },
            "type": "carpet"
           }
          ],
          "choropleth": [
           {
            "colorbar": {
             "outlinewidth": 0,
             "ticks": ""
            },
            "type": "choropleth"
           }
          ],
          "contour": [
           {
            "colorbar": {
             "outlinewidth": 0,
             "ticks": ""
            },
            "colorscale": [
             [
              0,
              "#0d0887"
             ],
             [
              0.1111111111111111,
              "#46039f"
             ],
             [
              0.2222222222222222,
              "#7201a8"
             ],
             [
              0.3333333333333333,
              "#9c179e"
             ],
             [
              0.4444444444444444,
              "#bd3786"
             ],
             [
              0.5555555555555556,
              "#d8576b"
             ],
             [
              0.6666666666666666,
              "#ed7953"
             ],
             [
              0.7777777777777778,
              "#fb9f3a"
             ],
             [
              0.8888888888888888,
              "#fdca26"
             ],
             [
              1,
              "#f0f921"
             ]
            ],
            "type": "contour"
           }
          ],
          "contourcarpet": [
           {
            "colorbar": {
             "outlinewidth": 0,
             "ticks": ""
            },
            "type": "contourcarpet"
           }
          ],
          "heatmap": [
           {
            "colorbar": {
             "outlinewidth": 0,
             "ticks": ""
            },
            "colorscale": [
             [
              0,
              "#0d0887"
             ],
             [
              0.1111111111111111,
              "#46039f"
             ],
             [
              0.2222222222222222,
              "#7201a8"
             ],
             [
              0.3333333333333333,
              "#9c179e"
             ],
             [
              0.4444444444444444,
              "#bd3786"
             ],
             [
              0.5555555555555556,
              "#d8576b"
             ],
             [
              0.6666666666666666,
              "#ed7953"
             ],
             [
              0.7777777777777778,
              "#fb9f3a"
             ],
             [
              0.8888888888888888,
              "#fdca26"
             ],
             [
              1,
              "#f0f921"
             ]
            ],
            "type": "heatmap"
           }
          ],
          "heatmapgl": [
           {
            "colorbar": {
             "outlinewidth": 0,
             "ticks": ""
            },
            "colorscale": [
             [
              0,
              "#0d0887"
             ],
             [
              0.1111111111111111,
              "#46039f"
             ],
             [
              0.2222222222222222,
              "#7201a8"
             ],
             [
              0.3333333333333333,
              "#9c179e"
             ],
             [
              0.4444444444444444,
              "#bd3786"
             ],
             [
              0.5555555555555556,
              "#d8576b"
             ],
             [
              0.6666666666666666,
              "#ed7953"
             ],
             [
              0.7777777777777778,
              "#fb9f3a"
             ],
             [
              0.8888888888888888,
              "#fdca26"
             ],
             [
              1,
              "#f0f921"
             ]
            ],
            "type": "heatmapgl"
           }
          ],
          "histogram": [
           {
            "marker": {
             "pattern": {
              "fillmode": "overlay",
              "size": 10,
              "solidity": 0.2
             }
            },
            "type": "histogram"
           }
          ],
          "histogram2d": [
           {
            "colorbar": {
             "outlinewidth": 0,
             "ticks": ""
            },
            "colorscale": [
             [
              0,
              "#0d0887"
             ],
             [
              0.1111111111111111,
              "#46039f"
             ],
             [
              0.2222222222222222,
              "#7201a8"
             ],
             [
              0.3333333333333333,
              "#9c179e"
             ],
             [
              0.4444444444444444,
              "#bd3786"
             ],
             [
              0.5555555555555556,
              "#d8576b"
             ],
             [
              0.6666666666666666,
              "#ed7953"
             ],
             [
              0.7777777777777778,
              "#fb9f3a"
             ],
             [
              0.8888888888888888,
              "#fdca26"
             ],
             [
              1,
              "#f0f921"
             ]
            ],
            "type": "histogram2d"
           }
          ],
          "histogram2dcontour": [
           {
            "colorbar": {
             "outlinewidth": 0,
             "ticks": ""
            },
            "colorscale": [
             [
              0,
              "#0d0887"
             ],
             [
              0.1111111111111111,
              "#46039f"
             ],
             [
              0.2222222222222222,
              "#7201a8"
             ],
             [
              0.3333333333333333,
              "#9c179e"
             ],
             [
              0.4444444444444444,
              "#bd3786"
             ],
             [
              0.5555555555555556,
              "#d8576b"
             ],
             [
              0.6666666666666666,
              "#ed7953"
             ],
             [
              0.7777777777777778,
              "#fb9f3a"
             ],
             [
              0.8888888888888888,
              "#fdca26"
             ],
             [
              1,
              "#f0f921"
             ]
            ],
            "type": "histogram2dcontour"
           }
          ],
          "mesh3d": [
           {
            "colorbar": {
             "outlinewidth": 0,
             "ticks": ""
            },
            "type": "mesh3d"
           }
          ],
          "parcoords": [
           {
            "line": {
             "colorbar": {
              "outlinewidth": 0,
              "ticks": ""
             }
            },
            "type": "parcoords"
           }
          ],
          "pie": [
           {
            "automargin": true,
            "type": "pie"
           }
          ],
          "scatter": [
           {
            "fillpattern": {
             "fillmode": "overlay",
             "size": 10,
             "solidity": 0.2
            },
            "type": "scatter"
           }
          ],
          "scatter3d": [
           {
            "line": {
             "colorbar": {
              "outlinewidth": 0,
              "ticks": ""
             }
            },
            "marker": {
             "colorbar": {
              "outlinewidth": 0,
              "ticks": ""
             }
            },
            "type": "scatter3d"
           }
          ],
          "scattercarpet": [
           {
            "marker": {
             "colorbar": {
              "outlinewidth": 0,
              "ticks": ""
             }
            },
            "type": "scattercarpet"
           }
          ],
          "scattergeo": [
           {
            "marker": {
             "colorbar": {
              "outlinewidth": 0,
              "ticks": ""
             }
            },
            "type": "scattergeo"
           }
          ],
          "scattergl": [
           {
            "marker": {
             "colorbar": {
              "outlinewidth": 0,
              "ticks": ""
             }
            },
            "type": "scattergl"
           }
          ],
          "scattermapbox": [
           {
            "marker": {
             "colorbar": {
              "outlinewidth": 0,
              "ticks": ""
             }
            },
            "type": "scattermapbox"
           }
          ],
          "scatterpolar": [
           {
            "marker": {
             "colorbar": {
              "outlinewidth": 0,
              "ticks": ""
             }
            },
            "type": "scatterpolar"
           }
          ],
          "scatterpolargl": [
           {
            "marker": {
             "colorbar": {
              "outlinewidth": 0,
              "ticks": ""
             }
            },
            "type": "scatterpolargl"
           }
          ],
          "scatterternary": [
           {
            "marker": {
             "colorbar": {
              "outlinewidth": 0,
              "ticks": ""
             }
            },
            "type": "scatterternary"
           }
          ],
          "surface": [
           {
            "colorbar": {
             "outlinewidth": 0,
             "ticks": ""
            },
            "colorscale": [
             [
              0,
              "#0d0887"
             ],
             [
              0.1111111111111111,
              "#46039f"
             ],
             [
              0.2222222222222222,
              "#7201a8"
             ],
             [
              0.3333333333333333,
              "#9c179e"
             ],
             [
              0.4444444444444444,
              "#bd3786"
             ],
             [
              0.5555555555555556,
              "#d8576b"
             ],
             [
              0.6666666666666666,
              "#ed7953"
             ],
             [
              0.7777777777777778,
              "#fb9f3a"
             ],
             [
              0.8888888888888888,
              "#fdca26"
             ],
             [
              1,
              "#f0f921"
             ]
            ],
            "type": "surface"
           }
          ],
          "table": [
           {
            "cells": {
             "fill": {
              "color": "#EBF0F8"
             },
             "line": {
              "color": "white"
             }
            },
            "header": {
             "fill": {
              "color": "#C8D4E3"
             },
             "line": {
              "color": "white"
             }
            },
            "type": "table"
           }
          ]
         },
         "layout": {
          "annotationdefaults": {
           "arrowcolor": "#2a3f5f",
           "arrowhead": 0,
           "arrowwidth": 1
          },
          "autotypenumbers": "strict",
          "coloraxis": {
           "colorbar": {
            "outlinewidth": 0,
            "ticks": ""
           }
          },
          "colorscale": {
           "diverging": [
            [
             0,
             "#8e0152"
            ],
            [
             0.1,
             "#c51b7d"
            ],
            [
             0.2,
             "#de77ae"
            ],
            [
             0.3,
             "#f1b6da"
            ],
            [
             0.4,
             "#fde0ef"
            ],
            [
             0.5,
             "#f7f7f7"
            ],
            [
             0.6,
             "#e6f5d0"
            ],
            [
             0.7,
             "#b8e186"
            ],
            [
             0.8,
             "#7fbc41"
            ],
            [
             0.9,
             "#4d9221"
            ],
            [
             1,
             "#276419"
            ]
           ],
           "sequential": [
            [
             0,
             "#0d0887"
            ],
            [
             0.1111111111111111,
             "#46039f"
            ],
            [
             0.2222222222222222,
             "#7201a8"
            ],
            [
             0.3333333333333333,
             "#9c179e"
            ],
            [
             0.4444444444444444,
             "#bd3786"
            ],
            [
             0.5555555555555556,
             "#d8576b"
            ],
            [
             0.6666666666666666,
             "#ed7953"
            ],
            [
             0.7777777777777778,
             "#fb9f3a"
            ],
            [
             0.8888888888888888,
             "#fdca26"
            ],
            [
             1,
             "#f0f921"
            ]
           ],
           "sequentialminus": [
            [
             0,
             "#0d0887"
            ],
            [
             0.1111111111111111,
             "#46039f"
            ],
            [
             0.2222222222222222,
             "#7201a8"
            ],
            [
             0.3333333333333333,
             "#9c179e"
            ],
            [
             0.4444444444444444,
             "#bd3786"
            ],
            [
             0.5555555555555556,
             "#d8576b"
            ],
            [
             0.6666666666666666,
             "#ed7953"
            ],
            [
             0.7777777777777778,
             "#fb9f3a"
            ],
            [
             0.8888888888888888,
             "#fdca26"
            ],
            [
             1,
             "#f0f921"
            ]
           ]
          },
          "colorway": [
           "#636efa",
           "#EF553B",
           "#00cc96",
           "#ab63fa",
           "#FFA15A",
           "#19d3f3",
           "#FF6692",
           "#B6E880",
           "#FF97FF",
           "#FECB52"
          ],
          "font": {
           "color": "#2a3f5f"
          },
          "geo": {
           "bgcolor": "white",
           "lakecolor": "white",
           "landcolor": "#E5ECF6",
           "showlakes": true,
           "showland": true,
           "subunitcolor": "white"
          },
          "hoverlabel": {
           "align": "left"
          },
          "hovermode": "closest",
          "mapbox": {
           "style": "light"
          },
          "paper_bgcolor": "white",
          "plot_bgcolor": "#E5ECF6",
          "polar": {
           "angularaxis": {
            "gridcolor": "white",
            "linecolor": "white",
            "ticks": ""
           },
           "bgcolor": "#E5ECF6",
           "radialaxis": {
            "gridcolor": "white",
            "linecolor": "white",
            "ticks": ""
           }
          },
          "scene": {
           "xaxis": {
            "backgroundcolor": "#E5ECF6",
            "gridcolor": "white",
            "gridwidth": 2,
            "linecolor": "white",
            "showbackground": true,
            "ticks": "",
            "zerolinecolor": "white"
           },
           "yaxis": {
            "backgroundcolor": "#E5ECF6",
            "gridcolor": "white",
            "gridwidth": 2,
            "linecolor": "white",
            "showbackground": true,
            "ticks": "",
            "zerolinecolor": "white"
           },
           "zaxis": {
            "backgroundcolor": "#E5ECF6",
            "gridcolor": "white",
            "gridwidth": 2,
            "linecolor": "white",
            "showbackground": true,
            "ticks": "",
            "zerolinecolor": "white"
           }
          },
          "shapedefaults": {
           "line": {
            "color": "#2a3f5f"
           }
          },
          "ternary": {
           "aaxis": {
            "gridcolor": "white",
            "linecolor": "white",
            "ticks": ""
           },
           "baxis": {
            "gridcolor": "white",
            "linecolor": "white",
            "ticks": ""
           },
           "bgcolor": "#E5ECF6",
           "caxis": {
            "gridcolor": "white",
            "linecolor": "white",
            "ticks": ""
           }
          },
          "title": {
           "x": 0.05
          },
          "xaxis": {
           "automargin": true,
           "gridcolor": "white",
           "linecolor": "white",
           "ticks": "",
           "title": {
            "standoff": 15
           },
           "zerolinecolor": "white",
           "zerolinewidth": 2
          },
          "yaxis": {
           "automargin": true,
           "gridcolor": "white",
           "linecolor": "white",
           "ticks": "",
           "title": {
            "standoff": 15
           },
           "zerolinecolor": "white",
           "zerolinewidth": 2
          }
         }
        },
        "title": {
         "text": "Clusters"
        },
        "xaxis": {
         "title": {
          "text": "Componente Principal 1"
         }
        },
        "yaxis": {
         "title": {
          "text": "Componente Principal 2"
         }
        }
       }
      }
     },
     "metadata": {},
     "output_type": "display_data"
    }
   ],
   "source": [
    "from sklearn.decomposition import PCA\n",
    "\n",
    "# Reducción de dimensionalidad con PCA a 2D\n",
    "pca = PCA(n_components=2, random_state=0)\n",
    "embeddings_2d = pca.fit_transform(df_train)\n",
    "\n",
    "# Agregar los resultados de la clusterización al DataFrame original\n",
    "df_train['Clusters'] = labels\n",
    "df_features['Clusters'] = labels\n",
    "\n",
    "# Crear una figura 2D interactiva con Plotly\n",
    "fig = go.Figure(data=[go.Scatter(\n",
    "    x=embeddings_2d[:, 0],\n",
    "    y=embeddings_2d[:, 1],\n",
    "    mode='markers',\n",
    "    marker=dict(\n",
    "        size=5,\n",
    "        color=labels,\n",
    "        colorscale='Viridis',\n",
    "        opacity=0.8\n",
    "    )\n",
    ")])\n",
    "\n",
    "# Configurar el título y los ejes\n",
    "fig.update_layout(\n",
    "    title='Clusters',\n",
    "    xaxis_title='Componente Principal 1',\n",
    "    yaxis_title='Componente Principal 2'\n",
    ")\n",
    "\n",
    "# Mostrar la figura\n",
    "fig.show()\n"
   ]
  },
  {
   "cell_type": "code",
   "execution_count": 15,
   "metadata": {},
   "outputs": [],
   "source": [
    "df_train = df_train.drop([\"Año_ingreso\", \"Año_retiro\", \"cluster\"], axis=1)"
   ]
  },
  {
   "cell_type": "code",
   "execution_count": 16,
   "metadata": {},
   "outputs": [
    {
     "data": {
      "text/plain": [
       "Index(['0', '1', '2', '3', '4', '5', '6', '7', '8', '9',\n",
       "       ...\n",
       "       'PAULO PEREZ_JEFE', 'RAFAEL PINO_JEFE', 'RENE LOZADA_JEFE',\n",
       "       'ROCIO CORREA_JEFE', 'RODRIGO TORRES_JEFE', 'ROLPHY QUINTERO_JEFE',\n",
       "       'STEPHEN PINTO_JEFE', 'TATIANA ROJAS_JEFE', 'VICTOR SANTAFE_JEFE',\n",
       "       'Clusters'],\n",
       "      dtype='object', length=704)"
      ]
     },
     "execution_count": 16,
     "metadata": {},
     "output_type": "execute_result"
    }
   ],
   "source": [
    "df_train.columns"
   ]
  },
  {
   "attachments": {},
   "cell_type": "markdown",
   "metadata": {},
   "source": [
    "# Random Forest"
   ]
  },
  {
   "cell_type": "code",
   "execution_count": 20,
   "metadata": {},
   "outputs": [
    {
     "name": "stdout",
     "output_type": "stream",
     "text": [
      "Precisión del modelo: 1.0\n",
      "Informe de clasificación:\n",
      "              precision    recall  f1-score   support\n",
      "\n",
      "           0       1.00      1.00      1.00        24\n",
      "           1       1.00      1.00      1.00        53\n",
      "           2       1.00      1.00      1.00        21\n",
      "\n",
      "    accuracy                           1.00        98\n",
      "   macro avg       1.00      1.00      1.00        98\n",
      "weighted avg       1.00      1.00      1.00        98\n",
      "\n",
      "Resultados de la validación cruzada:\n",
      "[0.53846154 0.52564103 0.48717949 0.48717949 0.58441558]\n",
      "Precisión promedio: 0.52\n"
     ]
    }
   ],
   "source": [
    "# Obtener los datos de las variables (excluyendo las etiquetas de los clusters)\n",
    "X = df_features.drop('Clusters', axis=1)  # Reemplaza 'Cluster' con el nombre de tu columna de etiquetas\n",
    "\n",
    "# Obtener las etiquetas de los clusters\n",
    "y = df_features['Clusters']  # Reemplaza 'Cluster' con el nombre de tu columna de etiquetas\n",
    "\n",
    "# Separar los datos en conjuntos de entrenamiento y prueba\n",
    "X_train, X_test, y_train, y_test = train_test_split(X, y, test_size=0.2, random_state=96)\n",
    "\n",
    "# Crear el modelo de Random Forest\n",
    "rf = RandomForestClassifier(random_state=96)\n",
    "\n",
    "# Entrenar el modelo con los datos\n",
    "rf.fit(X, y)\n",
    "\n",
    "# Realizar predicciones en el conjunto de prueba\n",
    "y_pred = rf.predict(X_test)\n",
    "\n",
    "# Calcular la precisión del modelo\n",
    "accuracy = accuracy_score(y_test, y_pred)\n",
    "print(\"Precisión del modelo:\", accuracy)\n",
    "\n",
    "# Generar un informe de clasificación\n",
    "report = classification_report(y_test, y_pred)\n",
    "print(\"Informe de clasificación:\")\n",
    "print(report)\n",
    "\n",
    "\n",
    "# Realizar validación cruzada\n",
    "cv_scores = cross_val_score(rf, X_train, y_train, cv=5)  \n",
    "\n",
    "# Imprimir los resultados de la validación cruzada\n",
    "print(\"Resultados de la validación cruzada:\")\n",
    "print(cv_scores)\n",
    "print(\"Precisión promedio: {:.2f}\".format(cv_scores.mean()))\n",
    "\n",
    "# # Obtener la importancia de características\n",
    "# importances = rf.feature_importances_\n",
    "\n",
    "# # Crear un DataFrame con las características y su importancia\n",
    "# df_importances = pd.DataFrame({'Feature': X.columns, 'Importance': importances})\n",
    "\n",
    "# # Ordenar las características por importancia en orden descendente\n",
    "# df_importances = df_importances.sort_values('Importance', ascending=False)\n",
    "# important_features = df_importances['Feature'].head(10).tolist()\n",
    "# # Imprimir las características ordenadas por importancia\n",
    "# print(important_features)"
   ]
  },
  {
   "cell_type": "code",
   "execution_count": 68,
   "metadata": {},
   "outputs": [
    {
     "name": "stdout",
     "output_type": "stream",
     "text": [
      "Distribución de clases:\n",
      "Cluster\n",
      "0    246\n",
      "1    129\n",
      "2    112\n",
      "Name: count, dtype: int64\n"
     ]
    }
   ],
   "source": [
    "# Contar la cantidad de ejemplos en cada clase\n",
    "class_counts = df_train['Cluster'].value_counts()\n",
    "\n",
    "# Imprimir la distribución de clases\n",
    "print(\"Distribución de clases:\")\n",
    "print(class_counts)\n"
   ]
  },
  {
   "cell_type": "code",
   "execution_count": 22,
   "metadata": {},
   "outputs": [
    {
     "name": "stdout",
     "output_type": "stream",
     "text": [
      "Resultados de la validación cruzada:\n",
      "[0.33673469 0.35714286 0.40206186 0.54639175 0.51546392]\n",
      "Precisión promedio: 0.43\n"
     ]
    }
   ],
   "source": [
    "# Realizar validación cruzada\n",
    "cv_scores = cross_val_score(rf, X, y, cv=5)\n",
    "\n",
    "# Imprimir los resultados de la validación cruzada\n",
    "print(\"Resultados de la validación cruzada:\")\n",
    "print(cv_scores)\n",
    "print(\"Precisión promedio: {:.2f}\".format(cv_scores.mean()))\n"
   ]
  },
  {
   "cell_type": "code",
   "execution_count": 23,
   "metadata": {},
   "outputs": [
    {
     "name": "stdout",
     "output_type": "stream",
     "text": [
      "Mejores hiperparámetros:\n",
      "{'max_depth': None, 'min_samples_split': 5, 'n_estimators': 200}\n"
     ]
    }
   ],
   "source": [
    "from sklearn.model_selection import GridSearchCV\n",
    "\n",
    "# Definir la grilla de hiperparámetros a explorar\n",
    "param_grid = {\n",
    "    'n_estimators': [10,50, 100, 200],\n",
    "    'max_depth': [None, 5, 7, 10, 12, 15,18],\n",
    "    'min_samples_split': [2, 5, 10, 20]\n",
    "}\n",
    "\n",
    "# Realizar búsqueda en la grilla de hiperparámetros\n",
    "grid_search = GridSearchCV(rf, param_grid, cv=5)\n",
    "grid_search.fit(X_train, y_train)\n",
    "\n",
    "# Obtener los mejores hiperparámetros encontrados\n",
    "best_params = grid_search.best_params_\n",
    "print(\"Mejores hiperparámetros:\")\n",
    "print(best_params)\n"
   ]
  },
  {
   "cell_type": "code",
   "execution_count": 24,
   "metadata": {},
   "outputs": [
    {
     "name": "stdout",
     "output_type": "stream",
     "text": [
      "Informe de clasificación:\n",
      "              precision    recall  f1-score   support\n",
      "\n",
      "           0       1.00      1.00      1.00        24\n",
      "           1       1.00      1.00      1.00        53\n",
      "           2       1.00      1.00      1.00        21\n",
      "\n",
      "    accuracy                           1.00        98\n",
      "   macro avg       1.00      1.00      1.00        98\n",
      "weighted avg       1.00      1.00      1.00        98\n",
      "\n",
      "Matriz de confusión:\n",
      "[[24  0  0]\n",
      " [ 0 53  0]\n",
      " [ 0  0 21]]\n"
     ]
    }
   ],
   "source": [
    "from sklearn.metrics import classification_report, confusion_matrix\n",
    "\n",
    "# Realizar predicciones en el conjunto de prueba\n",
    "y_pred = rf.predict(X_test)\n",
    "\n",
    "# Imprimir el informe de clasificación\n",
    "print(\"Informe de clasificación:\")\n",
    "print(classification_report(y_test, y_pred))\n",
    "\n",
    "# Imprimir la matriz de confusión\n",
    "confusion_mat = confusion_matrix(y_test, y_pred)\n",
    "print(\"Matriz de confusión:\")\n",
    "print(confusion_mat)\n"
   ]
  },
  {
   "cell_type": "code",
   "execution_count": 25,
   "metadata": {},
   "outputs": [
    {
     "name": "stdout",
     "output_type": "stream",
     "text": [
      "Precisión del modelo optimizado: 0.6224489795918368\n",
      "Nuevo informe de clasificación:\n",
      "              precision    recall  f1-score   support\n",
      "\n",
      "           0       0.67      0.42      0.51        24\n",
      "           1       0.65      0.85      0.74        53\n",
      "           2       0.43      0.29      0.34        21\n",
      "\n",
      "    accuracy                           0.62        98\n",
      "   macro avg       0.58      0.52      0.53        98\n",
      "weighted avg       0.61      0.62      0.60        98\n",
      "\n",
      "Nueva matriz de confusión:\n",
      "[[10 10  4]\n",
      " [ 4 45  4]\n",
      " [ 1 14  6]]\n"
     ]
    }
   ],
   "source": [
    "from sklearn.ensemble import RandomForestClassifier\n",
    "\n",
    "# Crear el modelo de Random Forest con los hiperparámetros óptimos\n",
    "rf_optimized = RandomForestClassifier(max_depth=18, min_samples_split=2, n_estimators=50, random_state=96)\n",
    "\n",
    "# Entrenar el modelo con los datos de entrenamiento\n",
    "rf_optimized.fit(X_train, y_train)\n",
    "\n",
    "# Realizar predicciones en el conjunto de prueba\n",
    "y_pred = rf_optimized.predict(X_test)\n",
    "\n",
    "# Calcular la precisión del modelo\n",
    "accuracy = accuracy_score(y_test, y_pred)\n",
    "print(\"Precisión del modelo optimizado:\", accuracy)\n",
    "\n",
    "# Generar un nuevo informe de clasificación\n",
    "report = classification_report(y_test, y_pred)\n",
    "print(\"Nuevo informe de clasificación:\")\n",
    "print(report)\n",
    "\n",
    "# Generar una nueva matriz de confusión\n",
    "confusion_mat = confusion_matrix(y_test, y_pred)\n",
    "print(\"Nueva matriz de confusión:\")\n",
    "print(confusion_mat)\n"
   ]
  },
  {
   "cell_type": "code",
   "execution_count": 40,
   "metadata": {},
   "outputs": [
    {
     "name": "stdout",
     "output_type": "stream",
     "text": [
      "         Tiempo_empresa       edad      JAVA  JOSE LUIS RODRIGUEZ_JEFE   \n",
      "Cluster                                                                  \n",
      "0            785.500000  31.598742  0.386179                  0.073171  \\\n",
      "1            767.550388  30.783100  0.418605                  0.170543   \n",
      "2            729.580357  30.573166  0.276786                  0.160714   \n",
      "\n",
      "          ANGULAR      .NET  FREDY SANDOVAL_JEFE  CO_639_PROY    ORACLE   \n",
      "Cluster                                                                   \n",
      "0        0.162602  0.105691             0.012195     0.020325  0.020325  \\\n",
      "1        0.147287  0.085271             0.015504     0.054264  0.069767   \n",
      "2        0.089286  0.080357             0.089286     0.017857  0.035714   \n",
      "\n",
      "         CARLOS URIBE_JEFE  \n",
      "Cluster                     \n",
      "0                 0.016260  \n",
      "1                 0.038760  \n",
      "2                 0.035714  \n"
     ]
    }
   ],
   "source": [
    "# Realizar el perfilamiento de los clusters utilizando las características adicionales\n",
    "perfilamiento_clusters = df_train.groupby('Cluster')[important_features].mean()\n",
    "\n",
    "# Imprimir el perfilamiento de los clusters\n",
    "print(perfilamiento_clusters)"
   ]
  },
  {
   "cell_type": "code",
   "execution_count": null,
   "metadata": {},
   "outputs": [],
   "source": []
  },
  {
   "cell_type": "code",
   "execution_count": 31,
   "metadata": {},
   "outputs": [],
   "source": [
    "# Step 3: Initialize an empty set to collect unique words\n",
    "word_set = set()\n",
    "\n",
    "# Step 4: Iterate over each row in the DataFrame\n",
    "for row in df_emb['Motivo_retiro']:\n",
    "    # Step 5: Split the sentence into words and update the word_set\n",
    "    words = row.split()\n",
    "    word_set.update(words)\n",
    "\n",
    "# Step 6: Convert the word_set to a list\n",
    "word_list = list(word_set)"
   ]
  },
  {
   "cell_type": "code",
   "execution_count": 34,
   "metadata": {},
   "outputs": [
    {
     "name": "stdout",
     "output_type": "stream",
     "text": [
      "Updated sentence: El motivo de retiro fue por salario\n"
     ]
    }
   ],
   "source": [
    "from sentence_transformers import SentenceTransformer, util\n",
    "\n",
    "# Step 3: Load the SentenceTransformer model and generate the embedding for your target sentence or word\n",
    "model = SentenceTransformer('paraphrase-multilingual-MiniLM-L12-v2')\n",
    "\n",
    "# Step 4: Define the target sentence\n",
    "target_text = 'El motivo de retiro fue por salario'  # Example sentence\n",
    "\n",
    "# Step 5: Split the sentence into individual words\n",
    "target_words = target_text.split()\n",
    "\n",
    "# Step 7: Find the nearest word for each word in the sentence\n",
    "closest_words = []\n",
    "for word in target_words:\n",
    "    word_embedding = model.encode([word])\n",
    "    cosine_similarities = util.pytorch_cos_sim(word_embedding, model.encode(word_list))\n",
    "    closest_word_index = cosine_similarities.argmax().item()\n",
    "    closest_word = word_list[closest_word_index]\n",
    "    closest_words.append(closest_word)\n",
    "\n",
    "# Step 8: Combine the closest words to form the updated sentence\n",
    "updated_sentence = ' '.join(closest_words)\n",
    "\n",
    "print(\"Updated sentence:\", updated_sentence)\n"
   ]
  },
  {
   "cell_type": "code",
   "execution_count": 4,
   "metadata": {},
   "outputs": [
    {
     "data": {
      "application/vnd.plotly.v1+json": {
       "config": {
        "plotlyServerURL": "https://plot.ly"
       },
       "data": [
        {
         "type": "bar",
         "x": [
          0,
          1
         ],
         "y": [
          3,
          2
         ]
        }
       ],
       "layout": {
        "template": {
         "data": {
          "bar": [
           {
            "error_x": {
             "color": "#2a3f5f"
            },
            "error_y": {
             "color": "#2a3f5f"
            },
            "marker": {
             "line": {
              "color": "#E5ECF6",
              "width": 0.5
             },
             "pattern": {
              "fillmode": "overlay",
              "size": 10,
              "solidity": 0.2
             }
            },
            "type": "bar"
           }
          ],
          "barpolar": [
           {
            "marker": {
             "line": {
              "color": "#E5ECF6",
              "width": 0.5
             },
             "pattern": {
              "fillmode": "overlay",
              "size": 10,
              "solidity": 0.2
             }
            },
            "type": "barpolar"
           }
          ],
          "carpet": [
           {
            "aaxis": {
             "endlinecolor": "#2a3f5f",
             "gridcolor": "white",
             "linecolor": "white",
             "minorgridcolor": "white",
             "startlinecolor": "#2a3f5f"
            },
            "baxis": {
             "endlinecolor": "#2a3f5f",
             "gridcolor": "white",
             "linecolor": "white",
             "minorgridcolor": "white",
             "startlinecolor": "#2a3f5f"
            },
            "type": "carpet"
           }
          ],
          "choropleth": [
           {
            "colorbar": {
             "outlinewidth": 0,
             "ticks": ""
            },
            "type": "choropleth"
           }
          ],
          "contour": [
           {
            "colorbar": {
             "outlinewidth": 0,
             "ticks": ""
            },
            "colorscale": [
             [
              0,
              "#0d0887"
             ],
             [
              0.1111111111111111,
              "#46039f"
             ],
             [
              0.2222222222222222,
              "#7201a8"
             ],
             [
              0.3333333333333333,
              "#9c179e"
             ],
             [
              0.4444444444444444,
              "#bd3786"
             ],
             [
              0.5555555555555556,
              "#d8576b"
             ],
             [
              0.6666666666666666,
              "#ed7953"
             ],
             [
              0.7777777777777778,
              "#fb9f3a"
             ],
             [
              0.8888888888888888,
              "#fdca26"
             ],
             [
              1,
              "#f0f921"
             ]
            ],
            "type": "contour"
           }
          ],
          "contourcarpet": [
           {
            "colorbar": {
             "outlinewidth": 0,
             "ticks": ""
            },
            "type": "contourcarpet"
           }
          ],
          "heatmap": [
           {
            "colorbar": {
             "outlinewidth": 0,
             "ticks": ""
            },
            "colorscale": [
             [
              0,
              "#0d0887"
             ],
             [
              0.1111111111111111,
              "#46039f"
             ],
             [
              0.2222222222222222,
              "#7201a8"
             ],
             [
              0.3333333333333333,
              "#9c179e"
             ],
             [
              0.4444444444444444,
              "#bd3786"
             ],
             [
              0.5555555555555556,
              "#d8576b"
             ],
             [
              0.6666666666666666,
              "#ed7953"
             ],
             [
              0.7777777777777778,
              "#fb9f3a"
             ],
             [
              0.8888888888888888,
              "#fdca26"
             ],
             [
              1,
              "#f0f921"
             ]
            ],
            "type": "heatmap"
           }
          ],
          "heatmapgl": [
           {
            "colorbar": {
             "outlinewidth": 0,
             "ticks": ""
            },
            "colorscale": [
             [
              0,
              "#0d0887"
             ],
             [
              0.1111111111111111,
              "#46039f"
             ],
             [
              0.2222222222222222,
              "#7201a8"
             ],
             [
              0.3333333333333333,
              "#9c179e"
             ],
             [
              0.4444444444444444,
              "#bd3786"
             ],
             [
              0.5555555555555556,
              "#d8576b"
             ],
             [
              0.6666666666666666,
              "#ed7953"
             ],
             [
              0.7777777777777778,
              "#fb9f3a"
             ],
             [
              0.8888888888888888,
              "#fdca26"
             ],
             [
              1,
              "#f0f921"
             ]
            ],
            "type": "heatmapgl"
           }
          ],
          "histogram": [
           {
            "marker": {
             "pattern": {
              "fillmode": "overlay",
              "size": 10,
              "solidity": 0.2
             }
            },
            "type": "histogram"
           }
          ],
          "histogram2d": [
           {
            "colorbar": {
             "outlinewidth": 0,
             "ticks": ""
            },
            "colorscale": [
             [
              0,
              "#0d0887"
             ],
             [
              0.1111111111111111,
              "#46039f"
             ],
             [
              0.2222222222222222,
              "#7201a8"
             ],
             [
              0.3333333333333333,
              "#9c179e"
             ],
             [
              0.4444444444444444,
              "#bd3786"
             ],
             [
              0.5555555555555556,
              "#d8576b"
             ],
             [
              0.6666666666666666,
              "#ed7953"
             ],
             [
              0.7777777777777778,
              "#fb9f3a"
             ],
             [
              0.8888888888888888,
              "#fdca26"
             ],
             [
              1,
              "#f0f921"
             ]
            ],
            "type": "histogram2d"
           }
          ],
          "histogram2dcontour": [
           {
            "colorbar": {
             "outlinewidth": 0,
             "ticks": ""
            },
            "colorscale": [
             [
              0,
              "#0d0887"
             ],
             [
              0.1111111111111111,
              "#46039f"
             ],
             [
              0.2222222222222222,
              "#7201a8"
             ],
             [
              0.3333333333333333,
              "#9c179e"
             ],
             [
              0.4444444444444444,
              "#bd3786"
             ],
             [
              0.5555555555555556,
              "#d8576b"
             ],
             [
              0.6666666666666666,
              "#ed7953"
             ],
             [
              0.7777777777777778,
              "#fb9f3a"
             ],
             [
              0.8888888888888888,
              "#fdca26"
             ],
             [
              1,
              "#f0f921"
             ]
            ],
            "type": "histogram2dcontour"
           }
          ],
          "mesh3d": [
           {
            "colorbar": {
             "outlinewidth": 0,
             "ticks": ""
            },
            "type": "mesh3d"
           }
          ],
          "parcoords": [
           {
            "line": {
             "colorbar": {
              "outlinewidth": 0,
              "ticks": ""
             }
            },
            "type": "parcoords"
           }
          ],
          "pie": [
           {
            "automargin": true,
            "type": "pie"
           }
          ],
          "scatter": [
           {
            "fillpattern": {
             "fillmode": "overlay",
             "size": 10,
             "solidity": 0.2
            },
            "type": "scatter"
           }
          ],
          "scatter3d": [
           {
            "line": {
             "colorbar": {
              "outlinewidth": 0,
              "ticks": ""
             }
            },
            "marker": {
             "colorbar": {
              "outlinewidth": 0,
              "ticks": ""
             }
            },
            "type": "scatter3d"
           }
          ],
          "scattercarpet": [
           {
            "marker": {
             "colorbar": {
              "outlinewidth": 0,
              "ticks": ""
             }
            },
            "type": "scattercarpet"
           }
          ],
          "scattergeo": [
           {
            "marker": {
             "colorbar": {
              "outlinewidth": 0,
              "ticks": ""
             }
            },
            "type": "scattergeo"
           }
          ],
          "scattergl": [
           {
            "marker": {
             "colorbar": {
              "outlinewidth": 0,
              "ticks": ""
             }
            },
            "type": "scattergl"
           }
          ],
          "scattermapbox": [
           {
            "marker": {
             "colorbar": {
              "outlinewidth": 0,
              "ticks": ""
             }
            },
            "type": "scattermapbox"
           }
          ],
          "scatterpolar": [
           {
            "marker": {
             "colorbar": {
              "outlinewidth": 0,
              "ticks": ""
             }
            },
            "type": "scatterpolar"
           }
          ],
          "scatterpolargl": [
           {
            "marker": {
             "colorbar": {
              "outlinewidth": 0,
              "ticks": ""
             }
            },
            "type": "scatterpolargl"
           }
          ],
          "scatterternary": [
           {
            "marker": {
             "colorbar": {
              "outlinewidth": 0,
              "ticks": ""
             }
            },
            "type": "scatterternary"
           }
          ],
          "surface": [
           {
            "colorbar": {
             "outlinewidth": 0,
             "ticks": ""
            },
            "colorscale": [
             [
              0,
              "#0d0887"
             ],
             [
              0.1111111111111111,
              "#46039f"
             ],
             [
              0.2222222222222222,
              "#7201a8"
             ],
             [
              0.3333333333333333,
              "#9c179e"
             ],
             [
              0.4444444444444444,
              "#bd3786"
             ],
             [
              0.5555555555555556,
              "#d8576b"
             ],
             [
              0.6666666666666666,
              "#ed7953"
             ],
             [
              0.7777777777777778,
              "#fb9f3a"
             ],
             [
              0.8888888888888888,
              "#fdca26"
             ],
             [
              1,
              "#f0f921"
             ]
            ],
            "type": "surface"
           }
          ],
          "table": [
           {
            "cells": {
             "fill": {
              "color": "#EBF0F8"
             },
             "line": {
              "color": "white"
             }
            },
            "header": {
             "fill": {
              "color": "#C8D4E3"
             },
             "line": {
              "color": "white"
             }
            },
            "type": "table"
           }
          ]
         },
         "layout": {
          "annotationdefaults": {
           "arrowcolor": "#2a3f5f",
           "arrowhead": 0,
           "arrowwidth": 1
          },
          "autotypenumbers": "strict",
          "coloraxis": {
           "colorbar": {
            "outlinewidth": 0,
            "ticks": ""
           }
          },
          "colorscale": {
           "diverging": [
            [
             0,
             "#8e0152"
            ],
            [
             0.1,
             "#c51b7d"
            ],
            [
             0.2,
             "#de77ae"
            ],
            [
             0.3,
             "#f1b6da"
            ],
            [
             0.4,
             "#fde0ef"
            ],
            [
             0.5,
             "#f7f7f7"
            ],
            [
             0.6,
             "#e6f5d0"
            ],
            [
             0.7,
             "#b8e186"
            ],
            [
             0.8,
             "#7fbc41"
            ],
            [
             0.9,
             "#4d9221"
            ],
            [
             1,
             "#276419"
            ]
           ],
           "sequential": [
            [
             0,
             "#0d0887"
            ],
            [
             0.1111111111111111,
             "#46039f"
            ],
            [
             0.2222222222222222,
             "#7201a8"
            ],
            [
             0.3333333333333333,
             "#9c179e"
            ],
            [
             0.4444444444444444,
             "#bd3786"
            ],
            [
             0.5555555555555556,
             "#d8576b"
            ],
            [
             0.6666666666666666,
             "#ed7953"
            ],
            [
             0.7777777777777778,
             "#fb9f3a"
            ],
            [
             0.8888888888888888,
             "#fdca26"
            ],
            [
             1,
             "#f0f921"
            ]
           ],
           "sequentialminus": [
            [
             0,
             "#0d0887"
            ],
            [
             0.1111111111111111,
             "#46039f"
            ],
            [
             0.2222222222222222,
             "#7201a8"
            ],
            [
             0.3333333333333333,
             "#9c179e"
            ],
            [
             0.4444444444444444,
             "#bd3786"
            ],
            [
             0.5555555555555556,
             "#d8576b"
            ],
            [
             0.6666666666666666,
             "#ed7953"
            ],
            [
             0.7777777777777778,
             "#fb9f3a"
            ],
            [
             0.8888888888888888,
             "#fdca26"
            ],
            [
             1,
             "#f0f921"
            ]
           ]
          },
          "colorway": [
           "#636efa",
           "#EF553B",
           "#00cc96",
           "#ab63fa",
           "#FFA15A",
           "#19d3f3",
           "#FF6692",
           "#B6E880",
           "#FF97FF",
           "#FECB52"
          ],
          "font": {
           "color": "#2a3f5f"
          },
          "geo": {
           "bgcolor": "white",
           "lakecolor": "white",
           "landcolor": "#E5ECF6",
           "showlakes": true,
           "showland": true,
           "subunitcolor": "white"
          },
          "hoverlabel": {
           "align": "left"
          },
          "hovermode": "closest",
          "mapbox": {
           "style": "light"
          },
          "paper_bgcolor": "white",
          "plot_bgcolor": "#E5ECF6",
          "polar": {
           "angularaxis": {
            "gridcolor": "white",
            "linecolor": "white",
            "ticks": ""
           },
           "bgcolor": "#E5ECF6",
           "radialaxis": {
            "gridcolor": "white",
            "linecolor": "white",
            "ticks": ""
           }
          },
          "scene": {
           "xaxis": {
            "backgroundcolor": "#E5ECF6",
            "gridcolor": "white",
            "gridwidth": 2,
            "linecolor": "white",
            "showbackground": true,
            "ticks": "",
            "zerolinecolor": "white"
           },
           "yaxis": {
            "backgroundcolor": "#E5ECF6",
            "gridcolor": "white",
            "gridwidth": 2,
            "linecolor": "white",
            "showbackground": true,
            "ticks": "",
            "zerolinecolor": "white"
           },
           "zaxis": {
            "backgroundcolor": "#E5ECF6",
            "gridcolor": "white",
            "gridwidth": 2,
            "linecolor": "white",
            "showbackground": true,
            "ticks": "",
            "zerolinecolor": "white"
           }
          },
          "shapedefaults": {
           "line": {
            "color": "#2a3f5f"
           }
          },
          "ternary": {
           "aaxis": {
            "gridcolor": "white",
            "linecolor": "white",
            "ticks": ""
           },
           "baxis": {
            "gridcolor": "white",
            "linecolor": "white",
            "ticks": ""
           },
           "bgcolor": "#E5ECF6",
           "caxis": {
            "gridcolor": "white",
            "linecolor": "white",
            "ticks": ""
           }
          },
          "title": {
           "x": 0.05
          },
          "xaxis": {
           "automargin": true,
           "gridcolor": "white",
           "linecolor": "white",
           "ticks": "",
           "title": {
            "standoff": 15
           },
           "zerolinecolor": "white",
           "zerolinewidth": 2
          },
          "yaxis": {
           "automargin": true,
           "gridcolor": "white",
           "linecolor": "white",
           "ticks": "",
           "title": {
            "standoff": 15
           },
           "zerolinecolor": "white",
           "zerolinewidth": 2
          }
         }
        },
        "title": {
         "text": "Cuenta de valores únicos - Columna1"
        },
        "xaxis": {
         "title": {
          "text": "Valores"
         }
        },
        "yaxis": {
         "title": {
          "text": "Cuenta"
         }
        }
       }
      }
     },
     "metadata": {},
     "output_type": "display_data"
    },
    {
     "data": {
      "application/vnd.plotly.v1+json": {
       "config": {
        "plotlyServerURL": "https://plot.ly"
       },
       "data": [
        {
         "type": "bar",
         "x": [
          1,
          0
         ],
         "y": [
          3,
          2
         ]
        }
       ],
       "layout": {
        "template": {
         "data": {
          "bar": [
           {
            "error_x": {
             "color": "#2a3f5f"
            },
            "error_y": {
             "color": "#2a3f5f"
            },
            "marker": {
             "line": {
              "color": "#E5ECF6",
              "width": 0.5
             },
             "pattern": {
              "fillmode": "overlay",
              "size": 10,
              "solidity": 0.2
             }
            },
            "type": "bar"
           }
          ],
          "barpolar": [
           {
            "marker": {
             "line": {
              "color": "#E5ECF6",
              "width": 0.5
             },
             "pattern": {
              "fillmode": "overlay",
              "size": 10,
              "solidity": 0.2
             }
            },
            "type": "barpolar"
           }
          ],
          "carpet": [
           {
            "aaxis": {
             "endlinecolor": "#2a3f5f",
             "gridcolor": "white",
             "linecolor": "white",
             "minorgridcolor": "white",
             "startlinecolor": "#2a3f5f"
            },
            "baxis": {
             "endlinecolor": "#2a3f5f",
             "gridcolor": "white",
             "linecolor": "white",
             "minorgridcolor": "white",
             "startlinecolor": "#2a3f5f"
            },
            "type": "carpet"
           }
          ],
          "choropleth": [
           {
            "colorbar": {
             "outlinewidth": 0,
             "ticks": ""
            },
            "type": "choropleth"
           }
          ],
          "contour": [
           {
            "colorbar": {
             "outlinewidth": 0,
             "ticks": ""
            },
            "colorscale": [
             [
              0,
              "#0d0887"
             ],
             [
              0.1111111111111111,
              "#46039f"
             ],
             [
              0.2222222222222222,
              "#7201a8"
             ],
             [
              0.3333333333333333,
              "#9c179e"
             ],
             [
              0.4444444444444444,
              "#bd3786"
             ],
             [
              0.5555555555555556,
              "#d8576b"
             ],
             [
              0.6666666666666666,
              "#ed7953"
             ],
             [
              0.7777777777777778,
              "#fb9f3a"
             ],
             [
              0.8888888888888888,
              "#fdca26"
             ],
             [
              1,
              "#f0f921"
             ]
            ],
            "type": "contour"
           }
          ],
          "contourcarpet": [
           {
            "colorbar": {
             "outlinewidth": 0,
             "ticks": ""
            },
            "type": "contourcarpet"
           }
          ],
          "heatmap": [
           {
            "colorbar": {
             "outlinewidth": 0,
             "ticks": ""
            },
            "colorscale": [
             [
              0,
              "#0d0887"
             ],
             [
              0.1111111111111111,
              "#46039f"
             ],
             [
              0.2222222222222222,
              "#7201a8"
             ],
             [
              0.3333333333333333,
              "#9c179e"
             ],
             [
              0.4444444444444444,
              "#bd3786"
             ],
             [
              0.5555555555555556,
              "#d8576b"
             ],
             [
              0.6666666666666666,
              "#ed7953"
             ],
             [
              0.7777777777777778,
              "#fb9f3a"
             ],
             [
              0.8888888888888888,
              "#fdca26"
             ],
             [
              1,
              "#f0f921"
             ]
            ],
            "type": "heatmap"
           }
          ],
          "heatmapgl": [
           {
            "colorbar": {
             "outlinewidth": 0,
             "ticks": ""
            },
            "colorscale": [
             [
              0,
              "#0d0887"
             ],
             [
              0.1111111111111111,
              "#46039f"
             ],
             [
              0.2222222222222222,
              "#7201a8"
             ],
             [
              0.3333333333333333,
              "#9c179e"
             ],
             [
              0.4444444444444444,
              "#bd3786"
             ],
             [
              0.5555555555555556,
              "#d8576b"
             ],
             [
              0.6666666666666666,
              "#ed7953"
             ],
             [
              0.7777777777777778,
              "#fb9f3a"
             ],
             [
              0.8888888888888888,
              "#fdca26"
             ],
             [
              1,
              "#f0f921"
             ]
            ],
            "type": "heatmapgl"
           }
          ],
          "histogram": [
           {
            "marker": {
             "pattern": {
              "fillmode": "overlay",
              "size": 10,
              "solidity": 0.2
             }
            },
            "type": "histogram"
           }
          ],
          "histogram2d": [
           {
            "colorbar": {
             "outlinewidth": 0,
             "ticks": ""
            },
            "colorscale": [
             [
              0,
              "#0d0887"
             ],
             [
              0.1111111111111111,
              "#46039f"
             ],
             [
              0.2222222222222222,
              "#7201a8"
             ],
             [
              0.3333333333333333,
              "#9c179e"
             ],
             [
              0.4444444444444444,
              "#bd3786"
             ],
             [
              0.5555555555555556,
              "#d8576b"
             ],
             [
              0.6666666666666666,
              "#ed7953"
             ],
             [
              0.7777777777777778,
              "#fb9f3a"
             ],
             [
              0.8888888888888888,
              "#fdca26"
             ],
             [
              1,
              "#f0f921"
             ]
            ],
            "type": "histogram2d"
           }
          ],
          "histogram2dcontour": [
           {
            "colorbar": {
             "outlinewidth": 0,
             "ticks": ""
            },
            "colorscale": [
             [
              0,
              "#0d0887"
             ],
             [
              0.1111111111111111,
              "#46039f"
             ],
             [
              0.2222222222222222,
              "#7201a8"
             ],
             [
              0.3333333333333333,
              "#9c179e"
             ],
             [
              0.4444444444444444,
              "#bd3786"
             ],
             [
              0.5555555555555556,
              "#d8576b"
             ],
             [
              0.6666666666666666,
              "#ed7953"
             ],
             [
              0.7777777777777778,
              "#fb9f3a"
             ],
             [
              0.8888888888888888,
              "#fdca26"
             ],
             [
              1,
              "#f0f921"
             ]
            ],
            "type": "histogram2dcontour"
           }
          ],
          "mesh3d": [
           {
            "colorbar": {
             "outlinewidth": 0,
             "ticks": ""
            },
            "type": "mesh3d"
           }
          ],
          "parcoords": [
           {
            "line": {
             "colorbar": {
              "outlinewidth": 0,
              "ticks": ""
             }
            },
            "type": "parcoords"
           }
          ],
          "pie": [
           {
            "automargin": true,
            "type": "pie"
           }
          ],
          "scatter": [
           {
            "fillpattern": {
             "fillmode": "overlay",
             "size": 10,
             "solidity": 0.2
            },
            "type": "scatter"
           }
          ],
          "scatter3d": [
           {
            "line": {
             "colorbar": {
              "outlinewidth": 0,
              "ticks": ""
             }
            },
            "marker": {
             "colorbar": {
              "outlinewidth": 0,
              "ticks": ""
             }
            },
            "type": "scatter3d"
           }
          ],
          "scattercarpet": [
           {
            "marker": {
             "colorbar": {
              "outlinewidth": 0,
              "ticks": ""
             }
            },
            "type": "scattercarpet"
           }
          ],
          "scattergeo": [
           {
            "marker": {
             "colorbar": {
              "outlinewidth": 0,
              "ticks": ""
             }
            },
            "type": "scattergeo"
           }
          ],
          "scattergl": [
           {
            "marker": {
             "colorbar": {
              "outlinewidth": 0,
              "ticks": ""
             }
            },
            "type": "scattergl"
           }
          ],
          "scattermapbox": [
           {
            "marker": {
             "colorbar": {
              "outlinewidth": 0,
              "ticks": ""
             }
            },
            "type": "scattermapbox"
           }
          ],
          "scatterpolar": [
           {
            "marker": {
             "colorbar": {
              "outlinewidth": 0,
              "ticks": ""
             }
            },
            "type": "scatterpolar"
           }
          ],
          "scatterpolargl": [
           {
            "marker": {
             "colorbar": {
              "outlinewidth": 0,
              "ticks": ""
             }
            },
            "type": "scatterpolargl"
           }
          ],
          "scatterternary": [
           {
            "marker": {
             "colorbar": {
              "outlinewidth": 0,
              "ticks": ""
             }
            },
            "type": "scatterternary"
           }
          ],
          "surface": [
           {
            "colorbar": {
             "outlinewidth": 0,
             "ticks": ""
            },
            "colorscale": [
             [
              0,
              "#0d0887"
             ],
             [
              0.1111111111111111,
              "#46039f"
             ],
             [
              0.2222222222222222,
              "#7201a8"
             ],
             [
              0.3333333333333333,
              "#9c179e"
             ],
             [
              0.4444444444444444,
              "#bd3786"
             ],
             [
              0.5555555555555556,
              "#d8576b"
             ],
             [
              0.6666666666666666,
              "#ed7953"
             ],
             [
              0.7777777777777778,
              "#fb9f3a"
             ],
             [
              0.8888888888888888,
              "#fdca26"
             ],
             [
              1,
              "#f0f921"
             ]
            ],
            "type": "surface"
           }
          ],
          "table": [
           {
            "cells": {
             "fill": {
              "color": "#EBF0F8"
             },
             "line": {
              "color": "white"
             }
            },
            "header": {
             "fill": {
              "color": "#C8D4E3"
             },
             "line": {
              "color": "white"
             }
            },
            "type": "table"
           }
          ]
         },
         "layout": {
          "annotationdefaults": {
           "arrowcolor": "#2a3f5f",
           "arrowhead": 0,
           "arrowwidth": 1
          },
          "autotypenumbers": "strict",
          "coloraxis": {
           "colorbar": {
            "outlinewidth": 0,
            "ticks": ""
           }
          },
          "colorscale": {
           "diverging": [
            [
             0,
             "#8e0152"
            ],
            [
             0.1,
             "#c51b7d"
            ],
            [
             0.2,
             "#de77ae"
            ],
            [
             0.3,
             "#f1b6da"
            ],
            [
             0.4,
             "#fde0ef"
            ],
            [
             0.5,
             "#f7f7f7"
            ],
            [
             0.6,
             "#e6f5d0"
            ],
            [
             0.7,
             "#b8e186"
            ],
            [
             0.8,
             "#7fbc41"
            ],
            [
             0.9,
             "#4d9221"
            ],
            [
             1,
             "#276419"
            ]
           ],
           "sequential": [
            [
             0,
             "#0d0887"
            ],
            [
             0.1111111111111111,
             "#46039f"
            ],
            [
             0.2222222222222222,
             "#7201a8"
            ],
            [
             0.3333333333333333,
             "#9c179e"
            ],
            [
             0.4444444444444444,
             "#bd3786"
            ],
            [
             0.5555555555555556,
             "#d8576b"
            ],
            [
             0.6666666666666666,
             "#ed7953"
            ],
            [
             0.7777777777777778,
             "#fb9f3a"
            ],
            [
             0.8888888888888888,
             "#fdca26"
            ],
            [
             1,
             "#f0f921"
            ]
           ],
           "sequentialminus": [
            [
             0,
             "#0d0887"
            ],
            [
             0.1111111111111111,
             "#46039f"
            ],
            [
             0.2222222222222222,
             "#7201a8"
            ],
            [
             0.3333333333333333,
             "#9c179e"
            ],
            [
             0.4444444444444444,
             "#bd3786"
            ],
            [
             0.5555555555555556,
             "#d8576b"
            ],
            [
             0.6666666666666666,
             "#ed7953"
            ],
            [
             0.7777777777777778,
             "#fb9f3a"
            ],
            [
             0.8888888888888888,
             "#fdca26"
            ],
            [
             1,
             "#f0f921"
            ]
           ]
          },
          "colorway": [
           "#636efa",
           "#EF553B",
           "#00cc96",
           "#ab63fa",
           "#FFA15A",
           "#19d3f3",
           "#FF6692",
           "#B6E880",
           "#FF97FF",
           "#FECB52"
          ],
          "font": {
           "color": "#2a3f5f"
          },
          "geo": {
           "bgcolor": "white",
           "lakecolor": "white",
           "landcolor": "#E5ECF6",
           "showlakes": true,
           "showland": true,
           "subunitcolor": "white"
          },
          "hoverlabel": {
           "align": "left"
          },
          "hovermode": "closest",
          "mapbox": {
           "style": "light"
          },
          "paper_bgcolor": "white",
          "plot_bgcolor": "#E5ECF6",
          "polar": {
           "angularaxis": {
            "gridcolor": "white",
            "linecolor": "white",
            "ticks": ""
           },
           "bgcolor": "#E5ECF6",
           "radialaxis": {
            "gridcolor": "white",
            "linecolor": "white",
            "ticks": ""
           }
          },
          "scene": {
           "xaxis": {
            "backgroundcolor": "#E5ECF6",
            "gridcolor": "white",
            "gridwidth": 2,
            "linecolor": "white",
            "showbackground": true,
            "ticks": "",
            "zerolinecolor": "white"
           },
           "yaxis": {
            "backgroundcolor": "#E5ECF6",
            "gridcolor": "white",
            "gridwidth": 2,
            "linecolor": "white",
            "showbackground": true,
            "ticks": "",
            "zerolinecolor": "white"
           },
           "zaxis": {
            "backgroundcolor": "#E5ECF6",
            "gridcolor": "white",
            "gridwidth": 2,
            "linecolor": "white",
            "showbackground": true,
            "ticks": "",
            "zerolinecolor": "white"
           }
          },
          "shapedefaults": {
           "line": {
            "color": "#2a3f5f"
           }
          },
          "ternary": {
           "aaxis": {
            "gridcolor": "white",
            "linecolor": "white",
            "ticks": ""
           },
           "baxis": {
            "gridcolor": "white",
            "linecolor": "white",
            "ticks": ""
           },
           "bgcolor": "#E5ECF6",
           "caxis": {
            "gridcolor": "white",
            "linecolor": "white",
            "ticks": ""
           }
          },
          "title": {
           "x": 0.05
          },
          "xaxis": {
           "automargin": true,
           "gridcolor": "white",
           "linecolor": "white",
           "ticks": "",
           "title": {
            "standoff": 15
           },
           "zerolinecolor": "white",
           "zerolinewidth": 2
          },
          "yaxis": {
           "automargin": true,
           "gridcolor": "white",
           "linecolor": "white",
           "ticks": "",
           "title": {
            "standoff": 15
           },
           "zerolinecolor": "white",
           "zerolinewidth": 2
          }
         }
        },
        "title": {
         "text": "Cuenta de valores únicos - Columna2"
        },
        "xaxis": {
         "title": {
          "text": "Valores"
         }
        },
        "yaxis": {
         "title": {
          "text": "Cuenta"
         }
        }
       }
      }
     },
     "metadata": {},
     "output_type": "display_data"
    },
    {
     "data": {
      "application/vnd.plotly.v1+json": {
       "config": {
        "plotlyServerURL": "https://plot.ly"
       },
       "data": [
        {
         "type": "bar",
         "x": [
          1,
          0,
          3
         ],
         "y": [
          2,
          2,
          1
         ]
        }
       ],
       "layout": {
        "template": {
         "data": {
          "bar": [
           {
            "error_x": {
             "color": "#2a3f5f"
            },
            "error_y": {
             "color": "#2a3f5f"
            },
            "marker": {
             "line": {
              "color": "#E5ECF6",
              "width": 0.5
             },
             "pattern": {
              "fillmode": "overlay",
              "size": 10,
              "solidity": 0.2
             }
            },
            "type": "bar"
           }
          ],
          "barpolar": [
           {
            "marker": {
             "line": {
              "color": "#E5ECF6",
              "width": 0.5
             },
             "pattern": {
              "fillmode": "overlay",
              "size": 10,
              "solidity": 0.2
             }
            },
            "type": "barpolar"
           }
          ],
          "carpet": [
           {
            "aaxis": {
             "endlinecolor": "#2a3f5f",
             "gridcolor": "white",
             "linecolor": "white",
             "minorgridcolor": "white",
             "startlinecolor": "#2a3f5f"
            },
            "baxis": {
             "endlinecolor": "#2a3f5f",
             "gridcolor": "white",
             "linecolor": "white",
             "minorgridcolor": "white",
             "startlinecolor": "#2a3f5f"
            },
            "type": "carpet"
           }
          ],
          "choropleth": [
           {
            "colorbar": {
             "outlinewidth": 0,
             "ticks": ""
            },
            "type": "choropleth"
           }
          ],
          "contour": [
           {
            "colorbar": {
             "outlinewidth": 0,
             "ticks": ""
            },
            "colorscale": [
             [
              0,
              "#0d0887"
             ],
             [
              0.1111111111111111,
              "#46039f"
             ],
             [
              0.2222222222222222,
              "#7201a8"
             ],
             [
              0.3333333333333333,
              "#9c179e"
             ],
             [
              0.4444444444444444,
              "#bd3786"
             ],
             [
              0.5555555555555556,
              "#d8576b"
             ],
             [
              0.6666666666666666,
              "#ed7953"
             ],
             [
              0.7777777777777778,
              "#fb9f3a"
             ],
             [
              0.8888888888888888,
              "#fdca26"
             ],
             [
              1,
              "#f0f921"
             ]
            ],
            "type": "contour"
           }
          ],
          "contourcarpet": [
           {
            "colorbar": {
             "outlinewidth": 0,
             "ticks": ""
            },
            "type": "contourcarpet"
           }
          ],
          "heatmap": [
           {
            "colorbar": {
             "outlinewidth": 0,
             "ticks": ""
            },
            "colorscale": [
             [
              0,
              "#0d0887"
             ],
             [
              0.1111111111111111,
              "#46039f"
             ],
             [
              0.2222222222222222,
              "#7201a8"
             ],
             [
              0.3333333333333333,
              "#9c179e"
             ],
             [
              0.4444444444444444,
              "#bd3786"
             ],
             [
              0.5555555555555556,
              "#d8576b"
             ],
             [
              0.6666666666666666,
              "#ed7953"
             ],
             [
              0.7777777777777778,
              "#fb9f3a"
             ],
             [
              0.8888888888888888,
              "#fdca26"
             ],
             [
              1,
              "#f0f921"
             ]
            ],
            "type": "heatmap"
           }
          ],
          "heatmapgl": [
           {
            "colorbar": {
             "outlinewidth": 0,
             "ticks": ""
            },
            "colorscale": [
             [
              0,
              "#0d0887"
             ],
             [
              0.1111111111111111,
              "#46039f"
             ],
             [
              0.2222222222222222,
              "#7201a8"
             ],
             [
              0.3333333333333333,
              "#9c179e"
             ],
             [
              0.4444444444444444,
              "#bd3786"
             ],
             [
              0.5555555555555556,
              "#d8576b"
             ],
             [
              0.6666666666666666,
              "#ed7953"
             ],
             [
              0.7777777777777778,
              "#fb9f3a"
             ],
             [
              0.8888888888888888,
              "#fdca26"
             ],
             [
              1,
              "#f0f921"
             ]
            ],
            "type": "heatmapgl"
           }
          ],
          "histogram": [
           {
            "marker": {
             "pattern": {
              "fillmode": "overlay",
              "size": 10,
              "solidity": 0.2
             }
            },
            "type": "histogram"
           }
          ],
          "histogram2d": [
           {
            "colorbar": {
             "outlinewidth": 0,
             "ticks": ""
            },
            "colorscale": [
             [
              0,
              "#0d0887"
             ],
             [
              0.1111111111111111,
              "#46039f"
             ],
             [
              0.2222222222222222,
              "#7201a8"
             ],
             [
              0.3333333333333333,
              "#9c179e"
             ],
             [
              0.4444444444444444,
              "#bd3786"
             ],
             [
              0.5555555555555556,
              "#d8576b"
             ],
             [
              0.6666666666666666,
              "#ed7953"
             ],
             [
              0.7777777777777778,
              "#fb9f3a"
             ],
             [
              0.8888888888888888,
              "#fdca26"
             ],
             [
              1,
              "#f0f921"
             ]
            ],
            "type": "histogram2d"
           }
          ],
          "histogram2dcontour": [
           {
            "colorbar": {
             "outlinewidth": 0,
             "ticks": ""
            },
            "colorscale": [
             [
              0,
              "#0d0887"
             ],
             [
              0.1111111111111111,
              "#46039f"
             ],
             [
              0.2222222222222222,
              "#7201a8"
             ],
             [
              0.3333333333333333,
              "#9c179e"
             ],
             [
              0.4444444444444444,
              "#bd3786"
             ],
             [
              0.5555555555555556,
              "#d8576b"
             ],
             [
              0.6666666666666666,
              "#ed7953"
             ],
             [
              0.7777777777777778,
              "#fb9f3a"
             ],
             [
              0.8888888888888888,
              "#fdca26"
             ],
             [
              1,
              "#f0f921"
             ]
            ],
            "type": "histogram2dcontour"
           }
          ],
          "mesh3d": [
           {
            "colorbar": {
             "outlinewidth": 0,
             "ticks": ""
            },
            "type": "mesh3d"
           }
          ],
          "parcoords": [
           {
            "line": {
             "colorbar": {
              "outlinewidth": 0,
              "ticks": ""
             }
            },
            "type": "parcoords"
           }
          ],
          "pie": [
           {
            "automargin": true,
            "type": "pie"
           }
          ],
          "scatter": [
           {
            "fillpattern": {
             "fillmode": "overlay",
             "size": 10,
             "solidity": 0.2
            },
            "type": "scatter"
           }
          ],
          "scatter3d": [
           {
            "line": {
             "colorbar": {
              "outlinewidth": 0,
              "ticks": ""
             }
            },
            "marker": {
             "colorbar": {
              "outlinewidth": 0,
              "ticks": ""
             }
            },
            "type": "scatter3d"
           }
          ],
          "scattercarpet": [
           {
            "marker": {
             "colorbar": {
              "outlinewidth": 0,
              "ticks": ""
             }
            },
            "type": "scattercarpet"
           }
          ],
          "scattergeo": [
           {
            "marker": {
             "colorbar": {
              "outlinewidth": 0,
              "ticks": ""
             }
            },
            "type": "scattergeo"
           }
          ],
          "scattergl": [
           {
            "marker": {
             "colorbar": {
              "outlinewidth": 0,
              "ticks": ""
             }
            },
            "type": "scattergl"
           }
          ],
          "scattermapbox": [
           {
            "marker": {
             "colorbar": {
              "outlinewidth": 0,
              "ticks": ""
             }
            },
            "type": "scattermapbox"
           }
          ],
          "scatterpolar": [
           {
            "marker": {
             "colorbar": {
              "outlinewidth": 0,
              "ticks": ""
             }
            },
            "type": "scatterpolar"
           }
          ],
          "scatterpolargl": [
           {
            "marker": {
             "colorbar": {
              "outlinewidth": 0,
              "ticks": ""
             }
            },
            "type": "scatterpolargl"
           }
          ],
          "scatterternary": [
           {
            "marker": {
             "colorbar": {
              "outlinewidth": 0,
              "ticks": ""
             }
            },
            "type": "scatterternary"
           }
          ],
          "surface": [
           {
            "colorbar": {
             "outlinewidth": 0,
             "ticks": ""
            },
            "colorscale": [
             [
              0,
              "#0d0887"
             ],
             [
              0.1111111111111111,
              "#46039f"
             ],
             [
              0.2222222222222222,
              "#7201a8"
             ],
             [
              0.3333333333333333,
              "#9c179e"
             ],
             [
              0.4444444444444444,
              "#bd3786"
             ],
             [
              0.5555555555555556,
              "#d8576b"
             ],
             [
              0.6666666666666666,
              "#ed7953"
             ],
             [
              0.7777777777777778,
              "#fb9f3a"
             ],
             [
              0.8888888888888888,
              "#fdca26"
             ],
             [
              1,
              "#f0f921"
             ]
            ],
            "type": "surface"
           }
          ],
          "table": [
           {
            "cells": {
             "fill": {
              "color": "#EBF0F8"
             },
             "line": {
              "color": "white"
             }
            },
            "header": {
             "fill": {
              "color": "#C8D4E3"
             },
             "line": {
              "color": "white"
             }
            },
            "type": "table"
           }
          ]
         },
         "layout": {
          "annotationdefaults": {
           "arrowcolor": "#2a3f5f",
           "arrowhead": 0,
           "arrowwidth": 1
          },
          "autotypenumbers": "strict",
          "coloraxis": {
           "colorbar": {
            "outlinewidth": 0,
            "ticks": ""
           }
          },
          "colorscale": {
           "diverging": [
            [
             0,
             "#8e0152"
            ],
            [
             0.1,
             "#c51b7d"
            ],
            [
             0.2,
             "#de77ae"
            ],
            [
             0.3,
             "#f1b6da"
            ],
            [
             0.4,
             "#fde0ef"
            ],
            [
             0.5,
             "#f7f7f7"
            ],
            [
             0.6,
             "#e6f5d0"
            ],
            [
             0.7,
             "#b8e186"
            ],
            [
             0.8,
             "#7fbc41"
            ],
            [
             0.9,
             "#4d9221"
            ],
            [
             1,
             "#276419"
            ]
           ],
           "sequential": [
            [
             0,
             "#0d0887"
            ],
            [
             0.1111111111111111,
             "#46039f"
            ],
            [
             0.2222222222222222,
             "#7201a8"
            ],
            [
             0.3333333333333333,
             "#9c179e"
            ],
            [
             0.4444444444444444,
             "#bd3786"
            ],
            [
             0.5555555555555556,
             "#d8576b"
            ],
            [
             0.6666666666666666,
             "#ed7953"
            ],
            [
             0.7777777777777778,
             "#fb9f3a"
            ],
            [
             0.8888888888888888,
             "#fdca26"
            ],
            [
             1,
             "#f0f921"
            ]
           ],
           "sequentialminus": [
            [
             0,
             "#0d0887"
            ],
            [
             0.1111111111111111,
             "#46039f"
            ],
            [
             0.2222222222222222,
             "#7201a8"
            ],
            [
             0.3333333333333333,
             "#9c179e"
            ],
            [
             0.4444444444444444,
             "#bd3786"
            ],
            [
             0.5555555555555556,
             "#d8576b"
            ],
            [
             0.6666666666666666,
             "#ed7953"
            ],
            [
             0.7777777777777778,
             "#fb9f3a"
            ],
            [
             0.8888888888888888,
             "#fdca26"
            ],
            [
             1,
             "#f0f921"
            ]
           ]
          },
          "colorway": [
           "#636efa",
           "#EF553B",
           "#00cc96",
           "#ab63fa",
           "#FFA15A",
           "#19d3f3",
           "#FF6692",
           "#B6E880",
           "#FF97FF",
           "#FECB52"
          ],
          "font": {
           "color": "#2a3f5f"
          },
          "geo": {
           "bgcolor": "white",
           "lakecolor": "white",
           "landcolor": "#E5ECF6",
           "showlakes": true,
           "showland": true,
           "subunitcolor": "white"
          },
          "hoverlabel": {
           "align": "left"
          },
          "hovermode": "closest",
          "mapbox": {
           "style": "light"
          },
          "paper_bgcolor": "white",
          "plot_bgcolor": "#E5ECF6",
          "polar": {
           "angularaxis": {
            "gridcolor": "white",
            "linecolor": "white",
            "ticks": ""
           },
           "bgcolor": "#E5ECF6",
           "radialaxis": {
            "gridcolor": "white",
            "linecolor": "white",
            "ticks": ""
           }
          },
          "scene": {
           "xaxis": {
            "backgroundcolor": "#E5ECF6",
            "gridcolor": "white",
            "gridwidth": 2,
            "linecolor": "white",
            "showbackground": true,
            "ticks": "",
            "zerolinecolor": "white"
           },
           "yaxis": {
            "backgroundcolor": "#E5ECF6",
            "gridcolor": "white",
            "gridwidth": 2,
            "linecolor": "white",
            "showbackground": true,
            "ticks": "",
            "zerolinecolor": "white"
           },
           "zaxis": {
            "backgroundcolor": "#E5ECF6",
            "gridcolor": "white",
            "gridwidth": 2,
            "linecolor": "white",
            "showbackground": true,
            "ticks": "",
            "zerolinecolor": "white"
           }
          },
          "shapedefaults": {
           "line": {
            "color": "#2a3f5f"
           }
          },
          "ternary": {
           "aaxis": {
            "gridcolor": "white",
            "linecolor": "white",
            "ticks": ""
           },
           "baxis": {
            "gridcolor": "white",
            "linecolor": "white",
            "ticks": ""
           },
           "bgcolor": "#E5ECF6",
           "caxis": {
            "gridcolor": "white",
            "linecolor": "white",
            "ticks": ""
           }
          },
          "title": {
           "x": 0.05
          },
          "xaxis": {
           "automargin": true,
           "gridcolor": "white",
           "linecolor": "white",
           "ticks": "",
           "title": {
            "standoff": 15
           },
           "zerolinecolor": "white",
           "zerolinewidth": 2
          },
          "yaxis": {
           "automargin": true,
           "gridcolor": "white",
           "linecolor": "white",
           "ticks": "",
           "title": {
            "standoff": 15
           },
           "zerolinecolor": "white",
           "zerolinewidth": 2
          }
         }
        },
        "title": {
         "text": "Cuenta de valores únicos - Columna3"
        },
        "xaxis": {
         "title": {
          "text": "Valores"
         }
        },
        "yaxis": {
         "title": {
          "text": "Cuenta"
         }
        }
       }
      }
     },
     "metadata": {},
     "output_type": "display_data"
    },
    {
     "data": {
      "application/vnd.plotly.v1+json": {
       "config": {
        "plotlyServerURL": "https://plot.ly"
       },
       "data": [
        {
         "type": "bar",
         "x": [
          2,
          1,
          3,
          4
         ],
         "y": [
          2,
          1,
          1,
          1
         ]
        }
       ],
       "layout": {
        "template": {
         "data": {
          "bar": [
           {
            "error_x": {
             "color": "#2a3f5f"
            },
            "error_y": {
             "color": "#2a3f5f"
            },
            "marker": {
             "line": {
              "color": "#E5ECF6",
              "width": 0.5
             },
             "pattern": {
              "fillmode": "overlay",
              "size": 10,
              "solidity": 0.2
             }
            },
            "type": "bar"
           }
          ],
          "barpolar": [
           {
            "marker": {
             "line": {
              "color": "#E5ECF6",
              "width": 0.5
             },
             "pattern": {
              "fillmode": "overlay",
              "size": 10,
              "solidity": 0.2
             }
            },
            "type": "barpolar"
           }
          ],
          "carpet": [
           {
            "aaxis": {
             "endlinecolor": "#2a3f5f",
             "gridcolor": "white",
             "linecolor": "white",
             "minorgridcolor": "white",
             "startlinecolor": "#2a3f5f"
            },
            "baxis": {
             "endlinecolor": "#2a3f5f",
             "gridcolor": "white",
             "linecolor": "white",
             "minorgridcolor": "white",
             "startlinecolor": "#2a3f5f"
            },
            "type": "carpet"
           }
          ],
          "choropleth": [
           {
            "colorbar": {
             "outlinewidth": 0,
             "ticks": ""
            },
            "type": "choropleth"
           }
          ],
          "contour": [
           {
            "colorbar": {
             "outlinewidth": 0,
             "ticks": ""
            },
            "colorscale": [
             [
              0,
              "#0d0887"
             ],
             [
              0.1111111111111111,
              "#46039f"
             ],
             [
              0.2222222222222222,
              "#7201a8"
             ],
             [
              0.3333333333333333,
              "#9c179e"
             ],
             [
              0.4444444444444444,
              "#bd3786"
             ],
             [
              0.5555555555555556,
              "#d8576b"
             ],
             [
              0.6666666666666666,
              "#ed7953"
             ],
             [
              0.7777777777777778,
              "#fb9f3a"
             ],
             [
              0.8888888888888888,
              "#fdca26"
             ],
             [
              1,
              "#f0f921"
             ]
            ],
            "type": "contour"
           }
          ],
          "contourcarpet": [
           {
            "colorbar": {
             "outlinewidth": 0,
             "ticks": ""
            },
            "type": "contourcarpet"
           }
          ],
          "heatmap": [
           {
            "colorbar": {
             "outlinewidth": 0,
             "ticks": ""
            },
            "colorscale": [
             [
              0,
              "#0d0887"
             ],
             [
              0.1111111111111111,
              "#46039f"
             ],
             [
              0.2222222222222222,
              "#7201a8"
             ],
             [
              0.3333333333333333,
              "#9c179e"
             ],
             [
              0.4444444444444444,
              "#bd3786"
             ],
             [
              0.5555555555555556,
              "#d8576b"
             ],
             [
              0.6666666666666666,
              "#ed7953"
             ],
             [
              0.7777777777777778,
              "#fb9f3a"
             ],
             [
              0.8888888888888888,
              "#fdca26"
             ],
             [
              1,
              "#f0f921"
             ]
            ],
            "type": "heatmap"
           }
          ],
          "heatmapgl": [
           {
            "colorbar": {
             "outlinewidth": 0,
             "ticks": ""
            },
            "colorscale": [
             [
              0,
              "#0d0887"
             ],
             [
              0.1111111111111111,
              "#46039f"
             ],
             [
              0.2222222222222222,
              "#7201a8"
             ],
             [
              0.3333333333333333,
              "#9c179e"
             ],
             [
              0.4444444444444444,
              "#bd3786"
             ],
             [
              0.5555555555555556,
              "#d8576b"
             ],
             [
              0.6666666666666666,
              "#ed7953"
             ],
             [
              0.7777777777777778,
              "#fb9f3a"
             ],
             [
              0.8888888888888888,
              "#fdca26"
             ],
             [
              1,
              "#f0f921"
             ]
            ],
            "type": "heatmapgl"
           }
          ],
          "histogram": [
           {
            "marker": {
             "pattern": {
              "fillmode": "overlay",
              "size": 10,
              "solidity": 0.2
             }
            },
            "type": "histogram"
           }
          ],
          "histogram2d": [
           {
            "colorbar": {
             "outlinewidth": 0,
             "ticks": ""
            },
            "colorscale": [
             [
              0,
              "#0d0887"
             ],
             [
              0.1111111111111111,
              "#46039f"
             ],
             [
              0.2222222222222222,
              "#7201a8"
             ],
             [
              0.3333333333333333,
              "#9c179e"
             ],
             [
              0.4444444444444444,
              "#bd3786"
             ],
             [
              0.5555555555555556,
              "#d8576b"
             ],
             [
              0.6666666666666666,
              "#ed7953"
             ],
             [
              0.7777777777777778,
              "#fb9f3a"
             ],
             [
              0.8888888888888888,
              "#fdca26"
             ],
             [
              1,
              "#f0f921"
             ]
            ],
            "type": "histogram2d"
           }
          ],
          "histogram2dcontour": [
           {
            "colorbar": {
             "outlinewidth": 0,
             "ticks": ""
            },
            "colorscale": [
             [
              0,
              "#0d0887"
             ],
             [
              0.1111111111111111,
              "#46039f"
             ],
             [
              0.2222222222222222,
              "#7201a8"
             ],
             [
              0.3333333333333333,
              "#9c179e"
             ],
             [
              0.4444444444444444,
              "#bd3786"
             ],
             [
              0.5555555555555556,
              "#d8576b"
             ],
             [
              0.6666666666666666,
              "#ed7953"
             ],
             [
              0.7777777777777778,
              "#fb9f3a"
             ],
             [
              0.8888888888888888,
              "#fdca26"
             ],
             [
              1,
              "#f0f921"
             ]
            ],
            "type": "histogram2dcontour"
           }
          ],
          "mesh3d": [
           {
            "colorbar": {
             "outlinewidth": 0,
             "ticks": ""
            },
            "type": "mesh3d"
           }
          ],
          "parcoords": [
           {
            "line": {
             "colorbar": {
              "outlinewidth": 0,
              "ticks": ""
             }
            },
            "type": "parcoords"
           }
          ],
          "pie": [
           {
            "automargin": true,
            "type": "pie"
           }
          ],
          "scatter": [
           {
            "fillpattern": {
             "fillmode": "overlay",
             "size": 10,
             "solidity": 0.2
            },
            "type": "scatter"
           }
          ],
          "scatter3d": [
           {
            "line": {
             "colorbar": {
              "outlinewidth": 0,
              "ticks": ""
             }
            },
            "marker": {
             "colorbar": {
              "outlinewidth": 0,
              "ticks": ""
             }
            },
            "type": "scatter3d"
           }
          ],
          "scattercarpet": [
           {
            "marker": {
             "colorbar": {
              "outlinewidth": 0,
              "ticks": ""
             }
            },
            "type": "scattercarpet"
           }
          ],
          "scattergeo": [
           {
            "marker": {
             "colorbar": {
              "outlinewidth": 0,
              "ticks": ""
             }
            },
            "type": "scattergeo"
           }
          ],
          "scattergl": [
           {
            "marker": {
             "colorbar": {
              "outlinewidth": 0,
              "ticks": ""
             }
            },
            "type": "scattergl"
           }
          ],
          "scattermapbox": [
           {
            "marker": {
             "colorbar": {
              "outlinewidth": 0,
              "ticks": ""
             }
            },
            "type": "scattermapbox"
           }
          ],
          "scatterpolar": [
           {
            "marker": {
             "colorbar": {
              "outlinewidth": 0,
              "ticks": ""
             }
            },
            "type": "scatterpolar"
           }
          ],
          "scatterpolargl": [
           {
            "marker": {
             "colorbar": {
              "outlinewidth": 0,
              "ticks": ""
             }
            },
            "type": "scatterpolargl"
           }
          ],
          "scatterternary": [
           {
            "marker": {
             "colorbar": {
              "outlinewidth": 0,
              "ticks": ""
             }
            },
            "type": "scatterternary"
           }
          ],
          "surface": [
           {
            "colorbar": {
             "outlinewidth": 0,
             "ticks": ""
            },
            "colorscale": [
             [
              0,
              "#0d0887"
             ],
             [
              0.1111111111111111,
              "#46039f"
             ],
             [
              0.2222222222222222,
              "#7201a8"
             ],
             [
              0.3333333333333333,
              "#9c179e"
             ],
             [
              0.4444444444444444,
              "#bd3786"
             ],
             [
              0.5555555555555556,
              "#d8576b"
             ],
             [
              0.6666666666666666,
              "#ed7953"
             ],
             [
              0.7777777777777778,
              "#fb9f3a"
             ],
             [
              0.8888888888888888,
              "#fdca26"
             ],
             [
              1,
              "#f0f921"
             ]
            ],
            "type": "surface"
           }
          ],
          "table": [
           {
            "cells": {
             "fill": {
              "color": "#EBF0F8"
             },
             "line": {
              "color": "white"
             }
            },
            "header": {
             "fill": {
              "color": "#C8D4E3"
             },
             "line": {
              "color": "white"
             }
            },
            "type": "table"
           }
          ]
         },
         "layout": {
          "annotationdefaults": {
           "arrowcolor": "#2a3f5f",
           "arrowhead": 0,
           "arrowwidth": 1
          },
          "autotypenumbers": "strict",
          "coloraxis": {
           "colorbar": {
            "outlinewidth": 0,
            "ticks": ""
           }
          },
          "colorscale": {
           "diverging": [
            [
             0,
             "#8e0152"
            ],
            [
             0.1,
             "#c51b7d"
            ],
            [
             0.2,
             "#de77ae"
            ],
            [
             0.3,
             "#f1b6da"
            ],
            [
             0.4,
             "#fde0ef"
            ],
            [
             0.5,
             "#f7f7f7"
            ],
            [
             0.6,
             "#e6f5d0"
            ],
            [
             0.7,
             "#b8e186"
            ],
            [
             0.8,
             "#7fbc41"
            ],
            [
             0.9,
             "#4d9221"
            ],
            [
             1,
             "#276419"
            ]
           ],
           "sequential": [
            [
             0,
             "#0d0887"
            ],
            [
             0.1111111111111111,
             "#46039f"
            ],
            [
             0.2222222222222222,
             "#7201a8"
            ],
            [
             0.3333333333333333,
             "#9c179e"
            ],
            [
             0.4444444444444444,
             "#bd3786"
            ],
            [
             0.5555555555555556,
             "#d8576b"
            ],
            [
             0.6666666666666666,
             "#ed7953"
            ],
            [
             0.7777777777777778,
             "#fb9f3a"
            ],
            [
             0.8888888888888888,
             "#fdca26"
            ],
            [
             1,
             "#f0f921"
            ]
           ],
           "sequentialminus": [
            [
             0,
             "#0d0887"
            ],
            [
             0.1111111111111111,
             "#46039f"
            ],
            [
             0.2222222222222222,
             "#7201a8"
            ],
            [
             0.3333333333333333,
             "#9c179e"
            ],
            [
             0.4444444444444444,
             "#bd3786"
            ],
            [
             0.5555555555555556,
             "#d8576b"
            ],
            [
             0.6666666666666666,
             "#ed7953"
            ],
            [
             0.7777777777777778,
             "#fb9f3a"
            ],
            [
             0.8888888888888888,
             "#fdca26"
            ],
            [
             1,
             "#f0f921"
            ]
           ]
          },
          "colorway": [
           "#636efa",
           "#EF553B",
           "#00cc96",
           "#ab63fa",
           "#FFA15A",
           "#19d3f3",
           "#FF6692",
           "#B6E880",
           "#FF97FF",
           "#FECB52"
          ],
          "font": {
           "color": "#2a3f5f"
          },
          "geo": {
           "bgcolor": "white",
           "lakecolor": "white",
           "landcolor": "#E5ECF6",
           "showlakes": true,
           "showland": true,
           "subunitcolor": "white"
          },
          "hoverlabel": {
           "align": "left"
          },
          "hovermode": "closest",
          "mapbox": {
           "style": "light"
          },
          "paper_bgcolor": "white",
          "plot_bgcolor": "#E5ECF6",
          "polar": {
           "angularaxis": {
            "gridcolor": "white",
            "linecolor": "white",
            "ticks": ""
           },
           "bgcolor": "#E5ECF6",
           "radialaxis": {
            "gridcolor": "white",
            "linecolor": "white",
            "ticks": ""
           }
          },
          "scene": {
           "xaxis": {
            "backgroundcolor": "#E5ECF6",
            "gridcolor": "white",
            "gridwidth": 2,
            "linecolor": "white",
            "showbackground": true,
            "ticks": "",
            "zerolinecolor": "white"
           },
           "yaxis": {
            "backgroundcolor": "#E5ECF6",
            "gridcolor": "white",
            "gridwidth": 2,
            "linecolor": "white",
            "showbackground": true,
            "ticks": "",
            "zerolinecolor": "white"
           },
           "zaxis": {
            "backgroundcolor": "#E5ECF6",
            "gridcolor": "white",
            "gridwidth": 2,
            "linecolor": "white",
            "showbackground": true,
            "ticks": "",
            "zerolinecolor": "white"
           }
          },
          "shapedefaults": {
           "line": {
            "color": "#2a3f5f"
           }
          },
          "ternary": {
           "aaxis": {
            "gridcolor": "white",
            "linecolor": "white",
            "ticks": ""
           },
           "baxis": {
            "gridcolor": "white",
            "linecolor": "white",
            "ticks": ""
           },
           "bgcolor": "#E5ECF6",
           "caxis": {
            "gridcolor": "white",
            "linecolor": "white",
            "ticks": ""
           }
          },
          "title": {
           "x": 0.05
          },
          "xaxis": {
           "automargin": true,
           "gridcolor": "white",
           "linecolor": "white",
           "ticks": "",
           "title": {
            "standoff": 15
           },
           "zerolinecolor": "white",
           "zerolinewidth": 2
          },
          "yaxis": {
           "automargin": true,
           "gridcolor": "white",
           "linecolor": "white",
           "ticks": "",
           "title": {
            "standoff": 15
           },
           "zerolinecolor": "white",
           "zerolinewidth": 2
          }
         }
        },
        "title": {
         "text": "Cuenta de valores únicos - Columna4"
        },
        "xaxis": {
         "title": {
          "text": "Valores"
         }
        },
        "yaxis": {
         "title": {
          "text": "Cuenta"
         }
        }
       }
      }
     },
     "metadata": {},
     "output_type": "display_data"
    }
   ],
   "source": [
    "import plotly.graph_objects as go\n",
    "import pandas as pd\n",
    "\n",
    "# Ejemplo de DataFrame con varias columnas\n",
    "data = {\n",
    "    'Columna1': [0, 1, 0, 1, 0],\n",
    "    'Columna2': [1, 1, 0, 0, 1],\n",
    "    'Columna3': [1, 0, 1, 0, 3],\n",
    "    'Columna4': [1, 2, 2, 3, 4]\n",
    "}\n",
    "\n",
    "df = pd.DataFrame(data)\n",
    "\n",
    "# Generar figuras separadas para cada columna\n",
    "figures = []\n",
    "for col in df.columns:\n",
    "    value_counts = df[col].value_counts()\n",
    "    x_values = value_counts.index.tolist()\n",
    "    y_values = value_counts.values.tolist()\n",
    "    \n",
    "    fig = go.Figure(go.Bar(x=x_values, y=y_values))\n",
    "    fig.update_layout(\n",
    "        title=f'Cuenta de valores únicos - {col}',\n",
    "        xaxis_title='Valores',\n",
    "        yaxis_title='Cuenta',\n",
    "    )\n",
    "    \n",
    "    figures.append(fig)\n",
    "\n",
    "# Mostrar las figuras\n",
    "for fig in figures:\n",
    "    fig.show()\n"
   ]
  }
 ],
 "metadata": {
  "kernelspec": {
   "display_name": "Rotacion",
   "language": "python",
   "name": "python3"
  },
  "language_info": {
   "codemirror_mode": {
    "name": "ipython",
    "version": 3
   },
   "file_extension": ".py",
   "mimetype": "text/x-python",
   "name": "python",
   "nbconvert_exporter": "python",
   "pygments_lexer": "ipython3",
   "version": "3.10.11"
  },
  "orig_nbformat": 4
 },
 "nbformat": 4,
 "nbformat_minor": 2
}
